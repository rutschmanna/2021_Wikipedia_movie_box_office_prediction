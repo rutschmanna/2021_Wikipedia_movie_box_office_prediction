{
 "cells": [
  {
   "cell_type": "markdown",
   "id": "87fee19d",
   "metadata": {},
   "source": [
    "<h3>Comments</h3>\n",
    "- Removing everythin inside of parentheses for wiki movies mismatches some movies (Candyman matched to short film instead of 2021 film) but there are to many (... film) to filter consistently<br>\n",
    "- With the Wiki merge I loose some movies (F9: The Fast Saga e.g); manual insertion?<br>\n",
    "- Rigor and Edits are a bit distorted since there is no way to get the edit history filtering out all non-user revisions (sometimes there might be slightly higher rigor than edits which is incorrect)<br>\n",
    "- Pageviews are not correct. Now way to filter past article names and merge their views to the final title version of a wiki page<br>\n",
    "- \n",
    "\n",
    "<br>\n",
    "\n",
    "<div style=\"text-align: center;\" >\n",
    "<h1 style=\"margin-top: 0.2em; margin-bottom: 0.1em;\">Social Media Data Analysis Project Paper</h1>\n",
    "<h4 style=\"margin-top: 0.7em; margin-bottom: 0.3em; font-style:italic\">Predicting Movie Box Office Success Based on Wikipedia Activity</h4>\n",
    "</div>\n",
    "<br>"
   ]
  },
  {
   "cell_type": "code",
   "execution_count": 3,
   "id": "7cba7ddd",
   "metadata": {},
   "outputs": [],
   "source": [
    "import requests\n",
    "from bs4 import BeautifulSoup\n",
    "import pandas as pd\n",
    "from datetime import datetime\n",
    "import matplotlib.pyplot as plt\n",
    "import seaborn as sns\n",
    "from datetime import datetime, timedelta, date\n",
    "import json\n",
    "import re\n",
    "import numpy as np\n",
    "from sklearn.linear_model import LinearRegression\n",
    "from sklearn.impute import SimpleImputer\n",
    "from sklearn.model_selection import cross_val_score\n",
    "from sklearn.model_selection import train_test_split"
   ]
  },
  {
   "cell_type": "markdown",
   "id": "f4a7a047",
   "metadata": {},
   "source": [
    "### Wikipedia 2021 Movie List (Wikipedia Page Links)"
   ]
  },
  {
   "cell_type": "code",
   "execution_count": 24,
   "id": "b9818fbc",
   "metadata": {},
   "outputs": [],
   "source": [
    "def get_wiki_links(url):\n",
    "    request = requests.get(url)\n",
    "    soup = BeautifulSoup(request.content, 'html.parser')\n",
    "    new_url = soup.find('a', href=True, string='next page')['href']\n",
    "    previous_url = url\n",
    "\n",
    "    title = []\n",
    "    wiki_link = []\n",
    "\n",
    "    while True:\n",
    "\n",
    "        previous_url = new_url\n",
    "        letters = soup.findAll('div', {'class' : 'mw-category-group'})[14:]\n",
    "\n",
    "        for entry in letters:\n",
    "            movies = entry.findAll('li')\n",
    "\n",
    "            for movie in movies:\n",
    "                title.append(movie.string)\n",
    "                wiki_link.append(movie.find('a')['href'])\n",
    "\n",
    "        try:\n",
    "            new_url = soup.find('a', href=True, string='next page')['href']\n",
    "        except:\n",
    "            break\n",
    "\n",
    "        request = requests.get('https://en.wikipedia.org/' + new_url)\n",
    "        soup = BeautifulSoup(request.content, 'html.parser')\n",
    "        \n",
    "    return pd.DataFrame({'title' : title, 'wiki_page' : wiki_link})"
   ]
  },
  {
   "cell_type": "code",
   "execution_count": 25,
   "id": "de919505",
   "metadata": {},
   "outputs": [],
   "source": [
    "wiki_2020 = get_wiki_links('https://en.wikipedia.org/wiki/Category:2020_films')\n",
    "wiki_2021 = get_wiki_links('https://en.wikipedia.org/wiki/Category:2021_films')"
   ]
  },
  {
   "cell_type": "code",
   "execution_count": 26,
   "id": "fbba4507",
   "metadata": {},
   "outputs": [],
   "source": [
    "wiki_df = pd.concat([wiki_2020, wiki_2021], axis=0)"
   ]
  },
  {
   "cell_type": "code",
   "execution_count": 27,
   "id": "33302075",
   "metadata": {},
   "outputs": [],
   "source": [
    "wiki_df['title'] = wiki_df['title'].str.replace(' \\(.*\\)', '', regex=True)\n",
    "wiki_df['wiki_page'] = wiki_df['wiki_page'].str.replace('/wiki/', '')"
   ]
  },
  {
   "cell_type": "code",
   "execution_count": 28,
   "id": "cf433882",
   "metadata": {},
   "outputs": [],
   "source": [
    "# wiki_df.to_csv('data/wikipedia_links.csv', index=False)"
   ]
  },
  {
   "cell_type": "code",
   "execution_count": 123,
   "id": "30efdb44",
   "metadata": {},
   "outputs": [
    {
     "data": {
      "text/html": [
       "<div>\n",
       "<style scoped>\n",
       "    .dataframe tbody tr th:only-of-type {\n",
       "        vertical-align: middle;\n",
       "    }\n",
       "\n",
       "    .dataframe tbody tr th {\n",
       "        vertical-align: top;\n",
       "    }\n",
       "\n",
       "    .dataframe thead th {\n",
       "        text-align: right;\n",
       "    }\n",
       "</style>\n",
       "<table border=\"1\" class=\"dataframe\">\n",
       "  <thead>\n",
       "    <tr style=\"text-align: right;\">\n",
       "      <th></th>\n",
       "      <th>title</th>\n",
       "      <th>wiki_page</th>\n",
       "    </tr>\n",
       "  </thead>\n",
       "  <tbody>\n",
       "    <tr>\n",
       "      <th>2842</th>\n",
       "      <td>F9</td>\n",
       "      <td>F9_(film)</td>\n",
       "    </tr>\n",
       "  </tbody>\n",
       "</table>\n",
       "</div>"
      ],
      "text/plain": [
       "     title  wiki_page\n",
       "2842    F9  F9_(film)"
      ]
     },
     "execution_count": 123,
     "metadata": {},
     "output_type": "execute_result"
    }
   ],
   "source": [
    "wiki_df[wiki_df['title'] == 'F9']"
   ]
  },
  {
   "cell_type": "code",
   "execution_count": 183,
   "id": "41b5afef",
   "metadata": {},
   "outputs": [
    {
     "data": {
      "text/plain": [
       "337     Candyman_(short_film)\n",
       "2529     Candyman_(2021_film)\n",
       "Name: wiki_page, dtype: object"
      ]
     },
     "execution_count": 183,
     "metadata": {},
     "output_type": "execute_result"
    }
   ],
   "source": [
    "wiki_df[wiki_df['title'] == 'Candyman']['wiki_page'].str.replace('_\\(2021_film\\) | _\\(short_film\\)', '', regex=True)"
   ]
  },
  {
   "cell_type": "markdown",
   "id": "b899a794",
   "metadata": {},
   "source": [
    "### Domestic 2021 Boxofficemojo Moivies (400/408)"
   ]
  },
  {
   "cell_type": "code",
   "execution_count": 29,
   "id": "02159203",
   "metadata": {},
   "outputs": [],
   "source": [
    "wiki_df = pd.read_csv('data/wikipedia_links.csv')"
   ]
  },
  {
   "cell_type": "code",
   "execution_count": 30,
   "id": "864e5fc4",
   "metadata": {},
   "outputs": [],
   "source": [
    "def get_bom_data():\n",
    "    \n",
    "    titles = []\n",
    "    gross = []\n",
    "    theaters = []\n",
    "    opening = []\n",
    "    release = []\n",
    "    \n",
    "    url = 'https://www.boxofficemojo.com/year/2021/?grossesOption=totalGrosses&sort=rank&sortDir='\n",
    "    \n",
    "    for link in ['asc', 'desc']:\n",
    "        request = requests.get(url + link)\n",
    "        soup = BeautifulSoup(request.content, 'html.parser')\n",
    "        \n",
    "        soup_rows = soup.find('div', {'id' : 'table'}).findAll('tr')\n",
    "\n",
    "        for row in soup_rows:\n",
    "            i = 0\n",
    "            for cell in row.findAll('td'):\n",
    "\n",
    "                if i == 1:\n",
    "                    titles.append(cell.string)\n",
    "\n",
    "                elif i == 5:\n",
    "                    gross.append(cell.string)\n",
    "\n",
    "                elif i == 7:\n",
    "                    opening.append(cell.string)\n",
    "                    \n",
    "                elif i == 9:\n",
    "                    theaters.append(cell.string)\n",
    "\n",
    "                elif i == 10:\n",
    "                    date = cell.string + ', 2021'\n",
    "                    date = datetime.strptime(date, '%b %d, %Y').strftime('%Y-%m-%d')\n",
    "                    release.append(date)\n",
    "\n",
    "                i += 1\n",
    "                \n",
    "    return pd.DataFrame({'title' : titles, 'gross_revenue': gross, 'n_theaters' : theaters, 'opening_revenue' : opening, 'release_date' : release})"
   ]
  },
  {
   "cell_type": "code",
   "execution_count": 31,
   "id": "4239a7de",
   "metadata": {},
   "outputs": [
    {
     "data": {
      "text/html": [
       "<div>\n",
       "<style scoped>\n",
       "    .dataframe tbody tr th:only-of-type {\n",
       "        vertical-align: middle;\n",
       "    }\n",
       "\n",
       "    .dataframe tbody tr th {\n",
       "        vertical-align: top;\n",
       "    }\n",
       "\n",
       "    .dataframe thead th {\n",
       "        text-align: right;\n",
       "    }\n",
       "</style>\n",
       "<table border=\"1\" class=\"dataframe\">\n",
       "  <thead>\n",
       "    <tr style=\"text-align: right;\">\n",
       "      <th></th>\n",
       "      <th>title</th>\n",
       "      <th>gross_revenue</th>\n",
       "      <th>n_theaters</th>\n",
       "      <th>opening_revenue</th>\n",
       "      <th>release_date</th>\n",
       "      <th>wiki_page</th>\n",
       "    </tr>\n",
       "  </thead>\n",
       "  <tbody>\n",
       "    <tr>\n",
       "      <th>0</th>\n",
       "      <td>Spider-Man: No Way Home</td>\n",
       "      <td>$804,793,477</td>\n",
       "      <td>4,336</td>\n",
       "      <td>$260,138,569</td>\n",
       "      <td>2021-12-17</td>\n",
       "      <td>Spider-Man:_No_Way_Home</td>\n",
       "    </tr>\n",
       "    <tr>\n",
       "      <th>1</th>\n",
       "      <td>Shang-Chi and the Legend of the Ten Rings</td>\n",
       "      <td>$224,543,292</td>\n",
       "      <td>4,300</td>\n",
       "      <td>$75,388,688</td>\n",
       "      <td>2021-09-03</td>\n",
       "      <td>Shang-Chi_and_the_Legend_of_the_Ten_Rings</td>\n",
       "    </tr>\n",
       "    <tr>\n",
       "      <th>2</th>\n",
       "      <td>Venom: Let There Be Carnage</td>\n",
       "      <td>$213,550,366</td>\n",
       "      <td>4,225</td>\n",
       "      <td>$90,033,210</td>\n",
       "      <td>2021-10-01</td>\n",
       "      <td>Venom:_Let_There_Be_Carnage</td>\n",
       "    </tr>\n",
       "    <tr>\n",
       "      <th>3</th>\n",
       "      <td>Black Widow</td>\n",
       "      <td>$183,651,655</td>\n",
       "      <td>4,160</td>\n",
       "      <td>$80,366,312</td>\n",
       "      <td>2021-07-09</td>\n",
       "      <td>Black_Widow_(2021_film)</td>\n",
       "    </tr>\n",
       "    <tr>\n",
       "      <th>4</th>\n",
       "      <td>Eternals</td>\n",
       "      <td>$164,870,234</td>\n",
       "      <td>4,090</td>\n",
       "      <td>$71,297,219</td>\n",
       "      <td>2021-11-05</td>\n",
       "      <td>Eternals_(film)</td>\n",
       "    </tr>\n",
       "  </tbody>\n",
       "</table>\n",
       "</div>"
      ],
      "text/plain": [
       "                                       title gross_revenue n_theaters  \\\n",
       "0                    Spider-Man: No Way Home  $804,793,477      4,336   \n",
       "1  Shang-Chi and the Legend of the Ten Rings  $224,543,292      4,300   \n",
       "2                Venom: Let There Be Carnage  $213,550,366      4,225   \n",
       "3                                Black Widow  $183,651,655      4,160   \n",
       "4                                   Eternals  $164,870,234      4,090   \n",
       "\n",
       "  opening_revenue release_date                                  wiki_page  \n",
       "0    $260,138,569   2021-12-17                    Spider-Man:_No_Way_Home  \n",
       "1     $75,388,688   2021-09-03  Shang-Chi_and_the_Legend_of_the_Ten_Rings  \n",
       "2     $90,033,210   2021-10-01                Venom:_Let_There_Be_Carnage  \n",
       "3     $80,366,312   2021-07-09                    Black_Widow_(2021_film)  \n",
       "4     $71,297,219   2021-11-05                            Eternals_(film)  "
      ]
     },
     "execution_count": 31,
     "metadata": {},
     "output_type": "execute_result"
    }
   ],
   "source": [
    "bom_df = get_bom_data()\n",
    "merge_df = bom_df.merge(wiki_df, on='title').drop_duplicates('title')\n",
    "merge_df.head()"
   ]
  },
  {
   "cell_type": "markdown",
   "id": "f1f46302",
   "metadata": {},
   "source": [
    "### Retrieve Page Creation Date Via XTools API"
   ]
  },
  {
   "cell_type": "code",
   "execution_count": 32,
   "id": "84496b1e",
   "metadata": {},
   "outputs": [],
   "source": [
    "def xtools_requests(wiki_page_name):\n",
    "    url = 'https://xtools.wmcloud.org/api/page/articleinfo/en.wikipedia.org/'\n",
    "    try:\n",
    "        return requests.get(url + wiki_page_name)\n",
    "    except:\n",
    "        return 'Some error occured'"
   ]
  },
  {
   "cell_type": "code",
   "execution_count": 33,
   "id": "3a1dcf39",
   "metadata": {},
   "outputs": [],
   "source": [
    "def get_edit_data(df, targe_column='wiki_page'):\n",
    "\n",
    "    inceptions = []\n",
    "\n",
    "\n",
    "    for i in df[targe_column]:\n",
    "        data = xtools_requests(i)\n",
    "        try:\n",
    "            inceptions.append(data.json()['created_at'])\n",
    "        except:\n",
    "            inceptions.append(None)\n",
    "            \n",
    "    df['page_created_date'] = inceptions"
   ]
  },
  {
   "cell_type": "code",
   "execution_count": 34,
   "id": "87f53ee1",
   "metadata": {},
   "outputs": [
    {
     "data": {
      "text/html": [
       "<div>\n",
       "<style scoped>\n",
       "    .dataframe tbody tr th:only-of-type {\n",
       "        vertical-align: middle;\n",
       "    }\n",
       "\n",
       "    .dataframe tbody tr th {\n",
       "        vertical-align: top;\n",
       "    }\n",
       "\n",
       "    .dataframe thead th {\n",
       "        text-align: right;\n",
       "    }\n",
       "</style>\n",
       "<table border=\"1\" class=\"dataframe\">\n",
       "  <thead>\n",
       "    <tr style=\"text-align: right;\">\n",
       "      <th></th>\n",
       "      <th>title</th>\n",
       "      <th>gross_revenue</th>\n",
       "      <th>n_theaters</th>\n",
       "      <th>opening_revenue</th>\n",
       "      <th>release_date</th>\n",
       "      <th>wiki_page</th>\n",
       "      <th>page_created_date</th>\n",
       "    </tr>\n",
       "  </thead>\n",
       "  <tbody>\n",
       "    <tr>\n",
       "      <th>0</th>\n",
       "      <td>Spider-Man: No Way Home</td>\n",
       "      <td>$804,793,477</td>\n",
       "      <td>4,336</td>\n",
       "      <td>$260,138,569</td>\n",
       "      <td>2021-12-17</td>\n",
       "      <td>Spider-Man:_No_Way_Home</td>\n",
       "      <td>2016-11-10</td>\n",
       "    </tr>\n",
       "    <tr>\n",
       "      <th>1</th>\n",
       "      <td>Shang-Chi and the Legend of the Ten Rings</td>\n",
       "      <td>$224,543,292</td>\n",
       "      <td>4,300</td>\n",
       "      <td>$75,388,688</td>\n",
       "      <td>2021-09-03</td>\n",
       "      <td>Shang-Chi_and_the_Legend_of_the_Ten_Rings</td>\n",
       "      <td>2018-12-03</td>\n",
       "    </tr>\n",
       "    <tr>\n",
       "      <th>2</th>\n",
       "      <td>Venom: Let There Be Carnage</td>\n",
       "      <td>$213,550,366</td>\n",
       "      <td>4,225</td>\n",
       "      <td>$90,033,210</td>\n",
       "      <td>2021-10-01</td>\n",
       "      <td>Venom:_Let_There_Be_Carnage</td>\n",
       "      <td>2018-11-23</td>\n",
       "    </tr>\n",
       "    <tr>\n",
       "      <th>3</th>\n",
       "      <td>Black Widow</td>\n",
       "      <td>$183,651,655</td>\n",
       "      <td>4,160</td>\n",
       "      <td>$80,366,312</td>\n",
       "      <td>2021-07-09</td>\n",
       "      <td>Black_Widow_(2021_film)</td>\n",
       "      <td>2012-10-30</td>\n",
       "    </tr>\n",
       "    <tr>\n",
       "      <th>4</th>\n",
       "      <td>Eternals</td>\n",
       "      <td>$164,870,234</td>\n",
       "      <td>4,090</td>\n",
       "      <td>$71,297,219</td>\n",
       "      <td>2021-11-05</td>\n",
       "      <td>Eternals_(film)</td>\n",
       "      <td>2018-04-23</td>\n",
       "    </tr>\n",
       "  </tbody>\n",
       "</table>\n",
       "</div>"
      ],
      "text/plain": [
       "                                       title gross_revenue n_theaters  \\\n",
       "0                    Spider-Man: No Way Home  $804,793,477      4,336   \n",
       "1  Shang-Chi and the Legend of the Ten Rings  $224,543,292      4,300   \n",
       "2                Venom: Let There Be Carnage  $213,550,366      4,225   \n",
       "3                                Black Widow  $183,651,655      4,160   \n",
       "4                                   Eternals  $164,870,234      4,090   \n",
       "\n",
       "  opening_revenue release_date                                  wiki_page  \\\n",
       "0    $260,138,569   2021-12-17                    Spider-Man:_No_Way_Home   \n",
       "1     $75,388,688   2021-09-03  Shang-Chi_and_the_Legend_of_the_Ten_Rings   \n",
       "2     $90,033,210   2021-10-01                Venom:_Let_There_Be_Carnage   \n",
       "3     $80,366,312   2021-07-09                    Black_Widow_(2021_film)   \n",
       "4     $71,297,219   2021-11-05                            Eternals_(film)   \n",
       "\n",
       "  page_created_date  \n",
       "0        2016-11-10  \n",
       "1        2018-12-03  \n",
       "2        2018-11-23  \n",
       "3        2012-10-30  \n",
       "4        2018-04-23  "
      ]
     },
     "execution_count": 34,
     "metadata": {},
     "output_type": "execute_result"
    }
   ],
   "source": [
    "# get_edit_data(merge_df)\n",
    "# merge_df.head()"
   ]
  },
  {
   "cell_type": "code",
   "execution_count": 35,
   "id": "d0576c9b",
   "metadata": {},
   "outputs": [],
   "source": [
    "# merge_df.to_csv('data/movies_meta_data.csv', index=False)"
   ]
  },
  {
   "cell_type": "markdown",
   "id": "dbbe9cfc",
   "metadata": {},
   "source": [
    "### Histograms"
   ]
  },
  {
   "cell_type": "code",
   "execution_count": 4,
   "id": "d85d88a8",
   "metadata": {},
   "outputs": [
    {
     "data": {
      "text/html": [
       "<div>\n",
       "<style scoped>\n",
       "    .dataframe tbody tr th:only-of-type {\n",
       "        vertical-align: middle;\n",
       "    }\n",
       "\n",
       "    .dataframe tbody tr th {\n",
       "        vertical-align: top;\n",
       "    }\n",
       "\n",
       "    .dataframe thead th {\n",
       "        text-align: right;\n",
       "    }\n",
       "</style>\n",
       "<table border=\"1\" class=\"dataframe\">\n",
       "  <thead>\n",
       "    <tr style=\"text-align: right;\">\n",
       "      <th></th>\n",
       "      <th>title</th>\n",
       "      <th>gross_revenue</th>\n",
       "      <th>n_theaters</th>\n",
       "      <th>opening_revenue</th>\n",
       "      <th>release_date</th>\n",
       "      <th>wiki_page</th>\n",
       "      <th>page_created_date</th>\n",
       "    </tr>\n",
       "  </thead>\n",
       "  <tbody>\n",
       "    <tr>\n",
       "      <th>0</th>\n",
       "      <td>Spider-Man: No Way Home</td>\n",
       "      <td>$804,793,477</td>\n",
       "      <td>4,336</td>\n",
       "      <td>$260,138,569</td>\n",
       "      <td>2021-12-17</td>\n",
       "      <td>Spider-Man:_No_Way_Home</td>\n",
       "      <td>2016-11-10</td>\n",
       "    </tr>\n",
       "    <tr>\n",
       "      <th>1</th>\n",
       "      <td>Shang-Chi and the Legend of the Ten Rings</td>\n",
       "      <td>$224,543,292</td>\n",
       "      <td>4,300</td>\n",
       "      <td>$75,388,688</td>\n",
       "      <td>2021-09-03</td>\n",
       "      <td>Shang-Chi_and_the_Legend_of_the_Ten_Rings</td>\n",
       "      <td>2018-12-03</td>\n",
       "    </tr>\n",
       "    <tr>\n",
       "      <th>2</th>\n",
       "      <td>Venom: Let There Be Carnage</td>\n",
       "      <td>$213,550,366</td>\n",
       "      <td>4,225</td>\n",
       "      <td>$90,033,210</td>\n",
       "      <td>2021-10-01</td>\n",
       "      <td>Venom:_Let_There_Be_Carnage</td>\n",
       "      <td>2018-11-23</td>\n",
       "    </tr>\n",
       "    <tr>\n",
       "      <th>3</th>\n",
       "      <td>Black Widow</td>\n",
       "      <td>$183,651,655</td>\n",
       "      <td>4,160</td>\n",
       "      <td>$80,366,312</td>\n",
       "      <td>2021-07-09</td>\n",
       "      <td>Black_Widow_(2021_film)</td>\n",
       "      <td>2012-10-30</td>\n",
       "    </tr>\n",
       "    <tr>\n",
       "      <th>4</th>\n",
       "      <td>Eternals</td>\n",
       "      <td>$164,870,234</td>\n",
       "      <td>4,090</td>\n",
       "      <td>$71,297,219</td>\n",
       "      <td>2021-11-05</td>\n",
       "      <td>Eternals_(film)</td>\n",
       "      <td>2018-04-23</td>\n",
       "    </tr>\n",
       "  </tbody>\n",
       "</table>\n",
       "</div>"
      ],
      "text/plain": [
       "                                       title gross_revenue n_theaters  \\\n",
       "0                    Spider-Man: No Way Home  $804,793,477      4,336   \n",
       "1  Shang-Chi and the Legend of the Ten Rings  $224,543,292      4,300   \n",
       "2                Venom: Let There Be Carnage  $213,550,366      4,225   \n",
       "3                                Black Widow  $183,651,655      4,160   \n",
       "4                                   Eternals  $164,870,234      4,090   \n",
       "\n",
       "  opening_revenue release_date                                  wiki_page  \\\n",
       "0    $260,138,569   2021-12-17                    Spider-Man:_No_Way_Home   \n",
       "1     $75,388,688   2021-09-03  Shang-Chi_and_the_Legend_of_the_Ten_Rings   \n",
       "2     $90,033,210   2021-10-01                Venom:_Let_There_Be_Carnage   \n",
       "3     $80,366,312   2021-07-09                    Black_Widow_(2021_film)   \n",
       "4     $71,297,219   2021-11-05                            Eternals_(film)   \n",
       "\n",
       "  page_created_date  \n",
       "0        2016-11-10  \n",
       "1        2018-12-03  \n",
       "2        2018-11-23  \n",
       "3        2012-10-30  \n",
       "4        2018-04-23  "
      ]
     },
     "execution_count": 4,
     "metadata": {},
     "output_type": "execute_result"
    }
   ],
   "source": [
    "df = pd.read_csv('data/movies_meta_data.csv')\n",
    "df['wiki_page'] = df['wiki_page'].str.replace('/', '%2F') # replace URL reserved character '/'\n",
    "df.head()"
   ]
  },
  {
   "cell_type": "code",
   "execution_count": 5,
   "id": "d2d0cf2d",
   "metadata": {
    "scrolled": true
   },
   "outputs": [],
   "source": [
    "df['release_date'] = pd.to_datetime(df['release_date'], format='%Y-%m-%d')\n",
    "df['page_created_date'] = pd.to_datetime(df['page_created_date'], format='%Y-%m-%d')\n",
    "\n",
    "df['cutoff_date_pre'] = df['release_date'] - timedelta(days=500)\n",
    "df['cutoff_date_post'] = df['release_date'] + timedelta(days=100)"
   ]
  },
  {
   "cell_type": "code",
   "execution_count": 6,
   "id": "1e03454f",
   "metadata": {},
   "outputs": [],
   "source": [
    "corr_df = df.copy()\n",
    "corr_df['opening_revenue'] = corr_df['opening_revenue'].str.replace('$', '').str.replace(',', '').str.replace('-', 'NaN')\n",
    "corr_df['gross_revenue'] = corr_df['gross_revenue'].str.replace('$', '').str.replace(',', '')\n",
    "corr_df['n_theaters'] = corr_df['n_theaters'].str.replace(',', '').str.replace('-', 'NaN')"
   ]
  },
  {
   "cell_type": "code",
   "execution_count": 7,
   "id": "14d0c11a",
   "metadata": {
    "scrolled": true
   },
   "outputs": [],
   "source": [
    "dist_day_created = (df['page_created_date'] - df['release_date']).dt.days"
   ]
  },
  {
   "cell_type": "code",
   "execution_count": 8,
   "id": "26fff4e1",
   "metadata": {},
   "outputs": [
    {
     "data": {
      "text/plain": [
       "<Axes: ylabel='Count'>"
      ]
     },
     "execution_count": 8,
     "metadata": {},
     "output_type": "execute_result"
    },
    {
     "data": {
      "image/png": "[encoded data removed]",
      "text/plain": [
       "<Figure size 640x480 with 1 Axes>"
      ]
     },
     "metadata": {},
     "output_type": "display_data"
    }
   ],
   "source": [
    "sns.histplot(dist_day_created)"
   ]
  },
  {
   "cell_type": "code",
   "execution_count": 18,
   "id": "a53735c2",
   "metadata": {},
   "outputs": [
    {
     "data": {
      "image/png": "[encoded data removed]",
      "text/plain": [
       "<Figure size 640x480 with 1 Axes>"
      ]
     },
     "metadata": {},
     "output_type": "display_data"
    }
   ],
   "source": [
    "fig, ax = plt.subplots()\n",
    "\n",
    "ax.hist(dist_day_created, bins=40, color='steelblue', ec='black')\n",
    "\n",
    "ax.set_xlabel('Time of Wikipedia Page Creation in Days')\n",
    "ax.set_ylabel('Movies')\n",
    "\n",
    "plt.show()"
   ]
  },
  {
   "cell_type": "markdown",
   "id": "6dcd867a",
   "metadata": {},
   "source": [
    "### Retrieve Edits -500 to +100 Days"
   ]
  },
  {
   "cell_type": "markdown",
   "id": "0159ea69",
   "metadata": {},
   "source": [
    "#### Retrieve list of all Wikipedia Bots first to remove bot-edits from rigor statistic"
   ]
  },
  {
   "cell_type": "code",
   "execution_count": 413,
   "id": "9028595a",
   "metadata": {},
   "outputs": [],
   "source": [
    "def get_wiki_bots(url):\n",
    "    request = requests.get(url)\n",
    "    soup = BeautifulSoup(request.content, 'html.parser')\n",
    "    new_url = soup.find('a', href=True, string='next page')['href']\n",
    "    previous_url = url\n",
    "\n",
    "    bot_list = []\n",
    "\n",
    "    while True:\n",
    "\n",
    "        previous_url = new_url\n",
    "        letters = soup.findAll('div', {'class' : 'mw-category mw-category-columns'})\n",
    "\n",
    "        for entry in letters:\n",
    "            bots = entry.findAll('li')\n",
    "\n",
    "            for bot in bots:\n",
    "                bot_list.append(bot.string[5:])\n",
    "\n",
    "        try:\n",
    "            new_url = soup.find('a', href=True, string='next page')['href']\n",
    "        except:\n",
    "            break\n",
    "\n",
    "        request = requests.get('https://en.wikipedia.org/' + new_url)\n",
    "        soup = BeautifulSoup(request.content, 'html.parser')\n",
    "        \n",
    "    return bot_list"
   ]
  },
  {
   "cell_type": "code",
   "execution_count": 414,
   "id": "2df5f1c4",
   "metadata": {},
   "outputs": [],
   "source": [
    "# wiki_bots = get_wiki_bots('https://en.wikipedia.org/wiki/Category:All_Wikipedia_bots')"
   ]
  },
  {
   "cell_type": "code",
   "execution_count": 415,
   "id": "b922d0c5",
   "metadata": {},
   "outputs": [],
   "source": [
    "# pd.DataFrame({'bot_name' : wiki_bots}).to_csv('data/wikipedia_bots.csv', index=False)"
   ]
  },
  {
   "cell_type": "code",
   "execution_count": 416,
   "id": "4c767468",
   "metadata": {},
   "outputs": [],
   "source": [
    "wiki_bots = list(pd.read_csv('data/wikipedia_bots.csv')['bot_name'])"
   ]
  },
  {
   "cell_type": "markdown",
   "id": "03eb3c2d",
   "metadata": {},
   "source": [
    "#### Retreive edits"
   ]
  },
  {
   "cell_type": "code",
   "execution_count": 417,
   "id": "474abc6d",
   "metadata": {},
   "outputs": [],
   "source": [
    "def calculate_aggregate_edits(page_history, start, end):\n",
    "    date_range = pd.date_range(start, periods=600).tolist()\n",
    "    \n",
    "    edit_list = []\n",
    "    edits = 0\n",
    "    \n",
    "    i = 0\n",
    "    \n",
    "    while page_history[i][0] < start:\n",
    "        edits += 1\n",
    "        i += 1\n",
    "    \n",
    "    for date in date_range:\n",
    "        while page_history[i][0] == date:\n",
    "            edits += 1\n",
    "            i += 1\n",
    "            \n",
    "        edit_list.append(edits)\n",
    "        \n",
    "    return edit_list"
   ]
  },
  {
   "cell_type": "code",
   "execution_count": 418,
   "id": "9f098a79",
   "metadata": {},
   "outputs": [],
   "source": [
    "def get_pageedit_data(df, target_column, start, end):\n",
    "    \n",
    "    collection = []\n",
    "    edits = []\n",
    "    i = 0\n",
    "    \n",
    "    for page in df[target_column]:   \n",
    "        url = f'https://en.wikipedia.org/w/api.php?action=query&prop=revisions&format=json&rvlimit=500&titles={page}'\n",
    "        more_pages = ''\n",
    "        \n",
    "        revisions = []\n",
    "\n",
    "        try:\n",
    "            while True:\n",
    "                data = requests.get(url + more_pages)\n",
    "                page_id = list(data.json()['query']['pages'].keys())[0]\n",
    "\n",
    "                revision = data.json()['query']['pages'][page_id]['revisions']\n",
    "\n",
    "                for j in range(len(revision)):\n",
    "                    timestamp = revision[j]['timestamp'][:10]\n",
    "                    try:\n",
    "                        comment = revision[j]['comment']\n",
    "                    except:\n",
    "                        comment = ''\n",
    "                    try:\n",
    "                        user = revision[j]['user']\n",
    "                    except:\n",
    "                        user = 'hidden_user'\n",
    "                    if user not in wiki_bots:\n",
    "                        revisions.append([datetime.strptime(timestamp, '%Y-%m-%d'), user, comment])\n",
    "                \n",
    "                try:\n",
    "                    rvcontinue = data.json()['continue']['rvcontinue']\n",
    "                    more_pages = '&rvcontinue=' + rvcontinue\n",
    "                except:\n",
    "                    break\n",
    "            revisions = revisions[::-1]\n",
    "            collection.append(revisions)\n",
    "            edits.append(calculate_aggregate_edits(revisions, df[start][i], df[end][i]))\n",
    "        \n",
    "        except:\n",
    "            print(data, page, url + more_pages)\n",
    "            collection.append([])\n",
    "            edits.append([0] * 600)\n",
    "    \n",
    "        i += 1\n",
    "        \n",
    "    return collection, edits"
   ]
  },
  {
   "cell_type": "code",
   "execution_count": 419,
   "id": "9381c574",
   "metadata": {
    "scrolled": true
   },
   "outputs": [],
   "source": [
    "# page_histories, daily_edits_per_page = get_pageedit_data(df, 'wiki_page', 'cutoff_date_pre', 'cutoff_date_post')"
   ]
  },
  {
   "cell_type": "code",
   "execution_count": 420,
   "id": "f85ef82d",
   "metadata": {},
   "outputs": [
    {
     "data": {
      "text/plain": [
       "269"
      ]
     },
     "execution_count": 420,
     "metadata": {},
     "output_type": "execute_result"
    }
   ],
   "source": [
    "test = []\n",
    "for movie in daily_edits_per_page:\n",
    "    test.append(len(movie))\n",
    "\n",
    "test.count(600) # We got 600 days of edit history for all of the 269 movies!"
   ]
  },
  {
   "cell_type": "code",
   "execution_count": 421,
   "id": "a02f1791",
   "metadata": {},
   "outputs": [],
   "source": [
    "hist_data = []\n",
    "for dates in page_histories:\n",
    "    data = []\n",
    "    for date in dates:\n",
    "        data.append([date[0].strftime('%Y-%m-%d'), date[1], date[2]])\n",
    "    hist_data.append(data)"
   ]
  },
  {
   "cell_type": "code",
   "execution_count": 422,
   "id": "31154286",
   "metadata": {},
   "outputs": [],
   "source": [
    "# with open('data/daily_edits_per_page.json', 'w', encoding='utf-8') as f:\n",
    "#     json.dump(daily_edits_per_page, f, ensure_ascii=False, indent=4)\n",
    "# f.close()\n",
    "\n",
    "# with open('data/wikipedia_page_histories.json', 'w', encoding='utf-8') as f:\n",
    "#     json.dump(hist_data, f, ensure_ascii=False, indent=4)\n",
    "# f.close()"
   ]
  },
  {
   "cell_type": "code",
   "execution_count": 423,
   "id": "3d7f417d",
   "metadata": {},
   "outputs": [],
   "source": [
    "# df.to_csv('data/movies_meta_data.csv', index=False)"
   ]
  },
  {
   "cell_type": "markdown",
   "id": "b9457cba",
   "metadata": {},
   "source": [
    "#### Create df containing the edit data"
   ]
  },
  {
   "cell_type": "code",
   "execution_count": 424,
   "id": "8548d163",
   "metadata": {},
   "outputs": [],
   "source": [
    "with open('data/daily_edits_per_page.json', 'r', encoding='utf-8') as f:\n",
    "    daily_edits_per_page = json.loads(f.read())\n",
    "f.close()\n",
    "\n",
    "with open('data/wikipedia_page_histories.json', 'r', encoding='utf-8') as f:\n",
    "    history_data = json.loads(f.read())\n",
    "f.close()"
   ]
  },
  {
   "cell_type": "code",
   "execution_count": 426,
   "id": "342ff4a0",
   "metadata": {},
   "outputs": [],
   "source": [
    "page_histories = []\n",
    "for dates in history_data:\n",
    "    data = []\n",
    "    for date in dates:\n",
    "        data.append([datetime.strptime(date[0], '%Y-%m-%d'), date[1], date[2]])\n",
    "    page_histories.append(data)"
   ]
  },
  {
   "cell_type": "code",
   "execution_count": 427,
   "id": "a3cb2922",
   "metadata": {},
   "outputs": [],
   "source": [
    "def get_corr_df(revenue_df, per_day_list):\n",
    "    corr_df = pd.DataFrame(per_day_list, columns=list(range(-500, 100)))\n",
    "    \n",
    "    corr_df['opening_revenue'] = revenue_df['opening_revenue'].str.replace('$', '').str.replace(',', '').str.replace('-', 'NaN')\n",
    "    corr_df['gross_revenue'] = revenue_df['gross_revenue'].str.replace('$', '').str.replace(',', '')\n",
    "    \n",
    "    return corr_df"
   ]
  },
  {
   "cell_type": "code",
   "execution_count": 428,
   "id": "48e70231",
   "metadata": {
    "scrolled": true
   },
   "outputs": [],
   "source": [
    "edits_per_day_df = get_corr_df(df, daily_edits_per_page)\n",
    "edits_corr = edits_per_day_df.corr().iloc[600, :600]"
   ]
  },
  {
   "cell_type": "code",
   "execution_count": 429,
   "id": "606a9d75",
   "metadata": {},
   "outputs": [
    {
     "data": {
      "text/html": [
       "<div>\n",
       "<style scoped>\n",
       "    .dataframe tbody tr th:only-of-type {\n",
       "        vertical-align: middle;\n",
       "    }\n",
       "\n",
       "    .dataframe tbody tr th {\n",
       "        vertical-align: top;\n",
       "    }\n",
       "\n",
       "    .dataframe thead th {\n",
       "        text-align: right;\n",
       "    }\n",
       "</style>\n",
       "<table border=\"1\" class=\"dataframe\">\n",
       "  <thead>\n",
       "    <tr style=\"text-align: right;\">\n",
       "      <th></th>\n",
       "      <th>-500</th>\n",
       "      <th>-499</th>\n",
       "      <th>-498</th>\n",
       "      <th>-497</th>\n",
       "      <th>-496</th>\n",
       "      <th>-495</th>\n",
       "      <th>-494</th>\n",
       "      <th>-493</th>\n",
       "      <th>-492</th>\n",
       "      <th>-491</th>\n",
       "      <th>...</th>\n",
       "      <th>92</th>\n",
       "      <th>93</th>\n",
       "      <th>94</th>\n",
       "      <th>95</th>\n",
       "      <th>96</th>\n",
       "      <th>97</th>\n",
       "      <th>98</th>\n",
       "      <th>99</th>\n",
       "      <th>opening_revenue</th>\n",
       "      <th>gross_revenue</th>\n",
       "    </tr>\n",
       "  </thead>\n",
       "  <tbody>\n",
       "    <tr>\n",
       "      <th>0</th>\n",
       "      <td>271</td>\n",
       "      <td>271</td>\n",
       "      <td>271</td>\n",
       "      <td>271</td>\n",
       "      <td>272</td>\n",
       "      <td>272</td>\n",
       "      <td>272</td>\n",
       "      <td>272</td>\n",
       "      <td>273</td>\n",
       "      <td>274</td>\n",
       "      <td>...</td>\n",
       "      <td>5684</td>\n",
       "      <td>5687</td>\n",
       "      <td>5692</td>\n",
       "      <td>5696</td>\n",
       "      <td>5703</td>\n",
       "      <td>5709</td>\n",
       "      <td>5716</td>\n",
       "      <td>5737</td>\n",
       "      <td>260138569</td>\n",
       "      <td>804793477</td>\n",
       "    </tr>\n",
       "    <tr>\n",
       "      <th>1</th>\n",
       "      <td>405</td>\n",
       "      <td>405</td>\n",
       "      <td>405</td>\n",
       "      <td>405</td>\n",
       "      <td>405</td>\n",
       "      <td>405</td>\n",
       "      <td>405</td>\n",
       "      <td>405</td>\n",
       "      <td>408</td>\n",
       "      <td>411</td>\n",
       "      <td>...</td>\n",
       "      <td>2627</td>\n",
       "      <td>2631</td>\n",
       "      <td>2638</td>\n",
       "      <td>2647</td>\n",
       "      <td>2656</td>\n",
       "      <td>2660</td>\n",
       "      <td>2663</td>\n",
       "      <td>2666</td>\n",
       "      <td>75388688</td>\n",
       "      <td>224543292</td>\n",
       "    </tr>\n",
       "    <tr>\n",
       "      <th>2</th>\n",
       "      <td>471</td>\n",
       "      <td>473</td>\n",
       "      <td>473</td>\n",
       "      <td>473</td>\n",
       "      <td>473</td>\n",
       "      <td>476</td>\n",
       "      <td>476</td>\n",
       "      <td>478</td>\n",
       "      <td>478</td>\n",
       "      <td>478</td>\n",
       "      <td>...</td>\n",
       "      <td>1791</td>\n",
       "      <td>1791</td>\n",
       "      <td>1791</td>\n",
       "      <td>1797</td>\n",
       "      <td>1801</td>\n",
       "      <td>1802</td>\n",
       "      <td>1806</td>\n",
       "      <td>1808</td>\n",
       "      <td>90033210</td>\n",
       "      <td>213550366</td>\n",
       "    </tr>\n",
       "    <tr>\n",
       "      <th>3</th>\n",
       "      <td>1403</td>\n",
       "      <td>1403</td>\n",
       "      <td>1403</td>\n",
       "      <td>1409</td>\n",
       "      <td>1409</td>\n",
       "      <td>1411</td>\n",
       "      <td>1411</td>\n",
       "      <td>1411</td>\n",
       "      <td>1415</td>\n",
       "      <td>1417</td>\n",
       "      <td>...</td>\n",
       "      <td>3926</td>\n",
       "      <td>3928</td>\n",
       "      <td>3928</td>\n",
       "      <td>3932</td>\n",
       "      <td>3935</td>\n",
       "      <td>3937</td>\n",
       "      <td>3937</td>\n",
       "      <td>3938</td>\n",
       "      <td>80366312</td>\n",
       "      <td>183651655</td>\n",
       "    </tr>\n",
       "    <tr>\n",
       "      <th>4</th>\n",
       "      <td>1153</td>\n",
       "      <td>1153</td>\n",
       "      <td>1153</td>\n",
       "      <td>1153</td>\n",
       "      <td>1158</td>\n",
       "      <td>1159</td>\n",
       "      <td>1159</td>\n",
       "      <td>1159</td>\n",
       "      <td>1159</td>\n",
       "      <td>1159</td>\n",
       "      <td>...</td>\n",
       "      <td>3495</td>\n",
       "      <td>3496</td>\n",
       "      <td>3497</td>\n",
       "      <td>3498</td>\n",
       "      <td>3502</td>\n",
       "      <td>3502</td>\n",
       "      <td>3502</td>\n",
       "      <td>3502</td>\n",
       "      <td>71297219</td>\n",
       "      <td>164870234</td>\n",
       "    </tr>\n",
       "  </tbody>\n",
       "</table>\n",
       "<p>5 rows × 602 columns</p>\n",
       "</div>"
      ],
      "text/plain": [
       "   -500  -499  -498  -497  -496  -495  -494  -493  -492  -491  ...    92  \\\n",
       "0   271   271   271   271   272   272   272   272   273   274  ...  5684   \n",
       "1   405   405   405   405   405   405   405   405   408   411  ...  2627   \n",
       "2   471   473   473   473   473   476   476   478   478   478  ...  1791   \n",
       "3  1403  1403  1403  1409  1409  1411  1411  1411  1415  1417  ...  3926   \n",
       "4  1153  1153  1153  1153  1158  1159  1159  1159  1159  1159  ...  3495   \n",
       "\n",
       "     93    94    95    96    97    98    99  opening_revenue  gross_revenue  \n",
       "0  5687  5692  5696  5703  5709  5716  5737        260138569      804793477  \n",
       "1  2631  2638  2647  2656  2660  2663  2666         75388688      224543292  \n",
       "2  1791  1791  1797  1801  1802  1806  1808         90033210      213550366  \n",
       "3  3928  3928  3932  3935  3937  3937  3938         80366312      183651655  \n",
       "4  3496  3497  3498  3502  3502  3502  3502         71297219      164870234  \n",
       "\n",
       "[5 rows x 602 columns]"
      ]
     },
     "execution_count": 429,
     "metadata": {},
     "output_type": "execute_result"
    }
   ],
   "source": [
    "edits_per_day_df.head()"
   ]
  },
  {
   "cell_type": "code",
   "execution_count": 430,
   "id": "2dc33a43",
   "metadata": {},
   "outputs": [],
   "source": [
    "# edits_per_day_df.to_csv('data/aggregated_edits_per_day.csv', index=False)"
   ]
  },
  {
   "cell_type": "code",
   "execution_count": 431,
   "id": "ee0e317b",
   "metadata": {},
   "outputs": [
    {
     "data": {
      "image/png": "[encoded data removed]",
      "text/plain": [
       "<Figure size 640x480 with 1 Axes>"
      ]
     },
     "metadata": {},
     "output_type": "display_data"
    }
   ],
   "source": [
    "fig, ax = plt.subplots()\n",
    "\n",
    "ax.plot(edits_corr, color='steelblue', label='Edits')\n",
    "\n",
    "ax.set_xlabel('Movie Time')\n",
    "ax.set_ylabel('Correlation')\n",
    "\n",
    "ax.legend()\n",
    "plt.show()"
   ]
  },
  {
   "cell_type": "markdown",
   "id": "85d951fe",
   "metadata": {},
   "source": [
    "### Retrieve Rigor Statistics -500 to +100 Days (Apply Algorithm to Calulate Rigor)"
   ]
  },
  {
   "cell_type": "code",
   "execution_count": 432,
   "id": "ccb85eac",
   "metadata": {},
   "outputs": [],
   "source": [
    "def calculate_rigor_score(page_history, start, end):\n",
    "    date_range = pd.date_range(start, periods=600).tolist()\n",
    "    \n",
    "    rigor_scores = []\n",
    "    rigor_score = 0\n",
    "    \n",
    "    i = 1\n",
    "    \n",
    "    while page_history[i][0] < start:\n",
    "        if page_history[i][1] != page_history[i-1][1]:\n",
    "            rigor_score += 1\n",
    "        else:\n",
    "            if page_history[i][0] != page_history[i-1][0]:\n",
    "                rigor_score += 1\n",
    "            else:\n",
    "                pass\n",
    "        i += 1\n",
    "    \n",
    "    for date in date_range:\n",
    "        while page_history[i][0] == date:\n",
    "            if page_history[i][1] != page_history[i-1][1]:\n",
    "                rigor_score += 1\n",
    "            else:\n",
    "                if page_history[i][0] != page_history[i-1][0]:\n",
    "                    rigor_score += 1\n",
    "                else:\n",
    "                    pass\n",
    "            i += 1\n",
    "        rigor_scores.append(rigor_score)\n",
    "        \n",
    "    return rigor_scores"
   ]
  },
  {
   "cell_type": "code",
   "execution_count": 433,
   "id": "733f0a8a",
   "metadata": {},
   "outputs": [],
   "source": [
    "daily_rigor_per_page = []\n",
    "i = 0\n",
    "\n",
    "for page in page_histories:\n",
    "    try:\n",
    "        daily_rigor_per_page.append(calculate_rigor_score(page, df['cutoff_date_pre'][i], df['cutoff_date_post'][i]))\n",
    "    except:\n",
    "        daily_rigor_per_page.append([0] * 600)\n",
    "    i += 1"
   ]
  },
  {
   "cell_type": "code",
   "execution_count": 434,
   "id": "92005661",
   "metadata": {},
   "outputs": [],
   "source": [
    "rigor_per_day_df = get_corr_df(df, daily_rigor_per_page)\n",
    "rigor_corr = rigor_per_day_df.corr().iloc[600, :600]"
   ]
  },
  {
   "cell_type": "code",
   "execution_count": 435,
   "id": "83b3791e",
   "metadata": {
    "scrolled": true
   },
   "outputs": [
    {
     "data": {
      "text/html": [
       "<div>\n",
       "<style scoped>\n",
       "    .dataframe tbody tr th:only-of-type {\n",
       "        vertical-align: middle;\n",
       "    }\n",
       "\n",
       "    .dataframe tbody tr th {\n",
       "        vertical-align: top;\n",
       "    }\n",
       "\n",
       "    .dataframe thead th {\n",
       "        text-align: right;\n",
       "    }\n",
       "</style>\n",
       "<table border=\"1\" class=\"dataframe\">\n",
       "  <thead>\n",
       "    <tr style=\"text-align: right;\">\n",
       "      <th></th>\n",
       "      <th>-500</th>\n",
       "      <th>-499</th>\n",
       "      <th>-498</th>\n",
       "      <th>-497</th>\n",
       "      <th>-496</th>\n",
       "      <th>-495</th>\n",
       "      <th>-494</th>\n",
       "      <th>-493</th>\n",
       "      <th>-492</th>\n",
       "      <th>-491</th>\n",
       "      <th>...</th>\n",
       "      <th>92</th>\n",
       "      <th>93</th>\n",
       "      <th>94</th>\n",
       "      <th>95</th>\n",
       "      <th>96</th>\n",
       "      <th>97</th>\n",
       "      <th>98</th>\n",
       "      <th>99</th>\n",
       "      <th>opening_revenue</th>\n",
       "      <th>gross_revenue</th>\n",
       "    </tr>\n",
       "  </thead>\n",
       "  <tbody>\n",
       "    <tr>\n",
       "      <th>0</th>\n",
       "      <td>174</td>\n",
       "      <td>174</td>\n",
       "      <td>174</td>\n",
       "      <td>174</td>\n",
       "      <td>175</td>\n",
       "      <td>175</td>\n",
       "      <td>175</td>\n",
       "      <td>175</td>\n",
       "      <td>176</td>\n",
       "      <td>177</td>\n",
       "      <td>...</td>\n",
       "      <td>4235</td>\n",
       "      <td>4238</td>\n",
       "      <td>4243</td>\n",
       "      <td>4247</td>\n",
       "      <td>4251</td>\n",
       "      <td>4257</td>\n",
       "      <td>4263</td>\n",
       "      <td>4278</td>\n",
       "      <td>260138569</td>\n",
       "      <td>804793477</td>\n",
       "    </tr>\n",
       "    <tr>\n",
       "      <th>1</th>\n",
       "      <td>296</td>\n",
       "      <td>296</td>\n",
       "      <td>296</td>\n",
       "      <td>296</td>\n",
       "      <td>296</td>\n",
       "      <td>296</td>\n",
       "      <td>296</td>\n",
       "      <td>296</td>\n",
       "      <td>299</td>\n",
       "      <td>301</td>\n",
       "      <td>...</td>\n",
       "      <td>1975</td>\n",
       "      <td>1978</td>\n",
       "      <td>1984</td>\n",
       "      <td>1991</td>\n",
       "      <td>2000</td>\n",
       "      <td>2004</td>\n",
       "      <td>2006</td>\n",
       "      <td>2009</td>\n",
       "      <td>75388688</td>\n",
       "      <td>224543292</td>\n",
       "    </tr>\n",
       "    <tr>\n",
       "      <th>2</th>\n",
       "      <td>357</td>\n",
       "      <td>359</td>\n",
       "      <td>359</td>\n",
       "      <td>359</td>\n",
       "      <td>359</td>\n",
       "      <td>361</td>\n",
       "      <td>361</td>\n",
       "      <td>363</td>\n",
       "      <td>363</td>\n",
       "      <td>363</td>\n",
       "      <td>...</td>\n",
       "      <td>1352</td>\n",
       "      <td>1352</td>\n",
       "      <td>1352</td>\n",
       "      <td>1356</td>\n",
       "      <td>1359</td>\n",
       "      <td>1360</td>\n",
       "      <td>1364</td>\n",
       "      <td>1366</td>\n",
       "      <td>90033210</td>\n",
       "      <td>213550366</td>\n",
       "    </tr>\n",
       "    <tr>\n",
       "      <th>3</th>\n",
       "      <td>1069</td>\n",
       "      <td>1069</td>\n",
       "      <td>1069</td>\n",
       "      <td>1073</td>\n",
       "      <td>1073</td>\n",
       "      <td>1075</td>\n",
       "      <td>1075</td>\n",
       "      <td>1075</td>\n",
       "      <td>1079</td>\n",
       "      <td>1081</td>\n",
       "      <td>...</td>\n",
       "      <td>2909</td>\n",
       "      <td>2911</td>\n",
       "      <td>2911</td>\n",
       "      <td>2914</td>\n",
       "      <td>2917</td>\n",
       "      <td>2919</td>\n",
       "      <td>2919</td>\n",
       "      <td>2920</td>\n",
       "      <td>80366312</td>\n",
       "      <td>183651655</td>\n",
       "    </tr>\n",
       "    <tr>\n",
       "      <th>4</th>\n",
       "      <td>865</td>\n",
       "      <td>865</td>\n",
       "      <td>865</td>\n",
       "      <td>865</td>\n",
       "      <td>868</td>\n",
       "      <td>869</td>\n",
       "      <td>869</td>\n",
       "      <td>869</td>\n",
       "      <td>869</td>\n",
       "      <td>869</td>\n",
       "      <td>...</td>\n",
       "      <td>2646</td>\n",
       "      <td>2647</td>\n",
       "      <td>2648</td>\n",
       "      <td>2649</td>\n",
       "      <td>2652</td>\n",
       "      <td>2652</td>\n",
       "      <td>2652</td>\n",
       "      <td>2652</td>\n",
       "      <td>71297219</td>\n",
       "      <td>164870234</td>\n",
       "    </tr>\n",
       "  </tbody>\n",
       "</table>\n",
       "<p>5 rows × 602 columns</p>\n",
       "</div>"
      ],
      "text/plain": [
       "   -500  -499  -498  -497  -496  -495  -494  -493  -492  -491  ...    92  \\\n",
       "0   174   174   174   174   175   175   175   175   176   177  ...  4235   \n",
       "1   296   296   296   296   296   296   296   296   299   301  ...  1975   \n",
       "2   357   359   359   359   359   361   361   363   363   363  ...  1352   \n",
       "3  1069  1069  1069  1073  1073  1075  1075  1075  1079  1081  ...  2909   \n",
       "4   865   865   865   865   868   869   869   869   869   869  ...  2646   \n",
       "\n",
       "     93    94    95    96    97    98    99  opening_revenue  gross_revenue  \n",
       "0  4238  4243  4247  4251  4257  4263  4278        260138569      804793477  \n",
       "1  1978  1984  1991  2000  2004  2006  2009         75388688      224543292  \n",
       "2  1352  1352  1356  1359  1360  1364  1366         90033210      213550366  \n",
       "3  2911  2911  2914  2917  2919  2919  2920         80366312      183651655  \n",
       "4  2647  2648  2649  2652  2652  2652  2652         71297219      164870234  \n",
       "\n",
       "[5 rows x 602 columns]"
      ]
     },
     "execution_count": 435,
     "metadata": {},
     "output_type": "execute_result"
    }
   ],
   "source": [
    "rigor_per_day_df.head()"
   ]
  },
  {
   "cell_type": "code",
   "execution_count": 436,
   "id": "8923c325",
   "metadata": {},
   "outputs": [],
   "source": [
    "# rigor_per_day_df.to_csv('data/aggregated_rigor_per_day.csv', index=False)"
   ]
  },
  {
   "cell_type": "code",
   "execution_count": 437,
   "id": "9d12e26c",
   "metadata": {},
   "outputs": [],
   "source": [
    "daily_theaters_per_movie = [[x] * 600 for x in list(corr_df['n_theaters'])]"
   ]
  },
  {
   "cell_type": "code",
   "execution_count": 438,
   "id": "ff1128bc",
   "metadata": {
    "scrolled": true
   },
   "outputs": [],
   "source": [
    "theaters_per_day_df = get_corr_df(corr_df, daily_theaters_per_movie)\n",
    "theaters_corr = theaters_per_day_df.corr().iloc[600, :600]"
   ]
  },
  {
   "cell_type": "code",
   "execution_count": 439,
   "id": "3cff798f",
   "metadata": {
    "scrolled": true
   },
   "outputs": [
    {
     "data": {
      "text/html": [
       "<div>\n",
       "<style scoped>\n",
       "    .dataframe tbody tr th:only-of-type {\n",
       "        vertical-align: middle;\n",
       "    }\n",
       "\n",
       "    .dataframe tbody tr th {\n",
       "        vertical-align: top;\n",
       "    }\n",
       "\n",
       "    .dataframe thead th {\n",
       "        text-align: right;\n",
       "    }\n",
       "</style>\n",
       "<table border=\"1\" class=\"dataframe\">\n",
       "  <thead>\n",
       "    <tr style=\"text-align: right;\">\n",
       "      <th></th>\n",
       "      <th>-500</th>\n",
       "      <th>-499</th>\n",
       "      <th>-498</th>\n",
       "      <th>-497</th>\n",
       "      <th>-496</th>\n",
       "      <th>-495</th>\n",
       "      <th>-494</th>\n",
       "      <th>-493</th>\n",
       "      <th>-492</th>\n",
       "      <th>-491</th>\n",
       "      <th>...</th>\n",
       "      <th>92</th>\n",
       "      <th>93</th>\n",
       "      <th>94</th>\n",
       "      <th>95</th>\n",
       "      <th>96</th>\n",
       "      <th>97</th>\n",
       "      <th>98</th>\n",
       "      <th>99</th>\n",
       "      <th>opening_revenue</th>\n",
       "      <th>gross_revenue</th>\n",
       "    </tr>\n",
       "  </thead>\n",
       "  <tbody>\n",
       "    <tr>\n",
       "      <th>0</th>\n",
       "      <td>4336</td>\n",
       "      <td>4336</td>\n",
       "      <td>4336</td>\n",
       "      <td>4336</td>\n",
       "      <td>4336</td>\n",
       "      <td>4336</td>\n",
       "      <td>4336</td>\n",
       "      <td>4336</td>\n",
       "      <td>4336</td>\n",
       "      <td>4336</td>\n",
       "      <td>...</td>\n",
       "      <td>4336</td>\n",
       "      <td>4336</td>\n",
       "      <td>4336</td>\n",
       "      <td>4336</td>\n",
       "      <td>4336</td>\n",
       "      <td>4336</td>\n",
       "      <td>4336</td>\n",
       "      <td>4336</td>\n",
       "      <td>260138569</td>\n",
       "      <td>804793477</td>\n",
       "    </tr>\n",
       "    <tr>\n",
       "      <th>1</th>\n",
       "      <td>4300</td>\n",
       "      <td>4300</td>\n",
       "      <td>4300</td>\n",
       "      <td>4300</td>\n",
       "      <td>4300</td>\n",
       "      <td>4300</td>\n",
       "      <td>4300</td>\n",
       "      <td>4300</td>\n",
       "      <td>4300</td>\n",
       "      <td>4300</td>\n",
       "      <td>...</td>\n",
       "      <td>4300</td>\n",
       "      <td>4300</td>\n",
       "      <td>4300</td>\n",
       "      <td>4300</td>\n",
       "      <td>4300</td>\n",
       "      <td>4300</td>\n",
       "      <td>4300</td>\n",
       "      <td>4300</td>\n",
       "      <td>75388688</td>\n",
       "      <td>224543292</td>\n",
       "    </tr>\n",
       "    <tr>\n",
       "      <th>2</th>\n",
       "      <td>4225</td>\n",
       "      <td>4225</td>\n",
       "      <td>4225</td>\n",
       "      <td>4225</td>\n",
       "      <td>4225</td>\n",
       "      <td>4225</td>\n",
       "      <td>4225</td>\n",
       "      <td>4225</td>\n",
       "      <td>4225</td>\n",
       "      <td>4225</td>\n",
       "      <td>...</td>\n",
       "      <td>4225</td>\n",
       "      <td>4225</td>\n",
       "      <td>4225</td>\n",
       "      <td>4225</td>\n",
       "      <td>4225</td>\n",
       "      <td>4225</td>\n",
       "      <td>4225</td>\n",
       "      <td>4225</td>\n",
       "      <td>90033210</td>\n",
       "      <td>213550366</td>\n",
       "    </tr>\n",
       "    <tr>\n",
       "      <th>3</th>\n",
       "      <td>4160</td>\n",
       "      <td>4160</td>\n",
       "      <td>4160</td>\n",
       "      <td>4160</td>\n",
       "      <td>4160</td>\n",
       "      <td>4160</td>\n",
       "      <td>4160</td>\n",
       "      <td>4160</td>\n",
       "      <td>4160</td>\n",
       "      <td>4160</td>\n",
       "      <td>...</td>\n",
       "      <td>4160</td>\n",
       "      <td>4160</td>\n",
       "      <td>4160</td>\n",
       "      <td>4160</td>\n",
       "      <td>4160</td>\n",
       "      <td>4160</td>\n",
       "      <td>4160</td>\n",
       "      <td>4160</td>\n",
       "      <td>80366312</td>\n",
       "      <td>183651655</td>\n",
       "    </tr>\n",
       "    <tr>\n",
       "      <th>4</th>\n",
       "      <td>4090</td>\n",
       "      <td>4090</td>\n",
       "      <td>4090</td>\n",
       "      <td>4090</td>\n",
       "      <td>4090</td>\n",
       "      <td>4090</td>\n",
       "      <td>4090</td>\n",
       "      <td>4090</td>\n",
       "      <td>4090</td>\n",
       "      <td>4090</td>\n",
       "      <td>...</td>\n",
       "      <td>4090</td>\n",
       "      <td>4090</td>\n",
       "      <td>4090</td>\n",
       "      <td>4090</td>\n",
       "      <td>4090</td>\n",
       "      <td>4090</td>\n",
       "      <td>4090</td>\n",
       "      <td>4090</td>\n",
       "      <td>71297219</td>\n",
       "      <td>164870234</td>\n",
       "    </tr>\n",
       "  </tbody>\n",
       "</table>\n",
       "<p>5 rows × 602 columns</p>\n",
       "</div>"
      ],
      "text/plain": [
       "   -500  -499  -498  -497  -496  -495  -494  -493  -492  -491  ...    92  \\\n",
       "0  4336  4336  4336  4336  4336  4336  4336  4336  4336  4336  ...  4336   \n",
       "1  4300  4300  4300  4300  4300  4300  4300  4300  4300  4300  ...  4300   \n",
       "2  4225  4225  4225  4225  4225  4225  4225  4225  4225  4225  ...  4225   \n",
       "3  4160  4160  4160  4160  4160  4160  4160  4160  4160  4160  ...  4160   \n",
       "4  4090  4090  4090  4090  4090  4090  4090  4090  4090  4090  ...  4090   \n",
       "\n",
       "     93    94    95    96    97    98    99 opening_revenue gross_revenue  \n",
       "0  4336  4336  4336  4336  4336  4336  4336       260138569     804793477  \n",
       "1  4300  4300  4300  4300  4300  4300  4300        75388688     224543292  \n",
       "2  4225  4225  4225  4225  4225  4225  4225        90033210     213550366  \n",
       "3  4160  4160  4160  4160  4160  4160  4160        80366312     183651655  \n",
       "4  4090  4090  4090  4090  4090  4090  4090        71297219     164870234  \n",
       "\n",
       "[5 rows x 602 columns]"
      ]
     },
     "execution_count": 439,
     "metadata": {},
     "output_type": "execute_result"
    }
   ],
   "source": [
    "theaters_per_day_df.head()"
   ]
  },
  {
   "cell_type": "code",
   "execution_count": 440,
   "id": "98507017",
   "metadata": {
    "scrolled": false
   },
   "outputs": [
    {
     "data": {
      "image/png": "[encoded data removed]",
      "text/plain": [
       "<Figure size 640x480 with 1 Axes>"
      ]
     },
     "metadata": {},
     "output_type": "display_data"
    }
   ],
   "source": [
    "fig, ax = plt.subplots()\n",
    "\n",
    "ax.plot(rigor_corr, color='orange', label='Rigor')\n",
    "ax.plot(edits_corr, color='steelblue', label='Edits')\n",
    "ax.plot(theaters_corr, color='green', label='Theaters', linestyle='dashed')\n",
    "\n",
    "ax.set_xlabel('Movie Time')\n",
    "ax.set_ylabel('Correlation')\n",
    "\n",
    "ax.legend()\n",
    "plt.show()"
   ]
  },
  {
   "cell_type": "markdown",
   "id": "e5ee2130",
   "metadata": {},
   "source": [
    "### Retrieve Users -500 to +100 Days"
   ]
  },
  {
   "cell_type": "code",
   "execution_count": 441,
   "id": "611abbf1",
   "metadata": {},
   "outputs": [],
   "source": [
    "def calculate_aggregate_users(page_history, start, end):\n",
    "    date_range = pd.date_range(start, periods=600).tolist()\n",
    "    \n",
    "    users = []\n",
    "    n_users = 0\n",
    "    user_scores = []\n",
    "    \n",
    "    i = 1\n",
    "    \n",
    "    while page_history[i][0] < start:\n",
    "        if page_history[i][1] not in users:\n",
    "            users.append(page_history[i][1])\n",
    "            n_users += 1\n",
    "        else:\n",
    "            pass\n",
    "        \n",
    "        i += 1\n",
    "    \n",
    "    for date in date_range:\n",
    "        while page_history[i][0] == date:\n",
    "            if page_history[i][1] not in users:\n",
    "                users.append(page_history[i][1])\n",
    "                n_users += 1\n",
    "            else:\n",
    "                pass\n",
    "            \n",
    "            i += 1\n",
    "        user_scores.append(n_users)\n",
    "        \n",
    "    return user_scores"
   ]
  },
  {
   "cell_type": "code",
   "execution_count": 442,
   "id": "0d15fe0a",
   "metadata": {},
   "outputs": [],
   "source": [
    "daily_users_per_page = []\n",
    "i = 0\n",
    "\n",
    "for page in page_histories:\n",
    "    try:\n",
    "        daily_users_per_page.append(calculate_aggregate_users(page, df['cutoff_date_pre'][i], df['cutoff_date_post'][i]))\n",
    "    except:\n",
    "        daily_users_per_page.append([0] * 600)\n",
    "    i += 1"
   ]
  },
  {
   "cell_type": "code",
   "execution_count": 443,
   "id": "45ca2ced",
   "metadata": {},
   "outputs": [
    {
     "data": {
      "text/html": [
       "<div>\n",
       "<style scoped>\n",
       "    .dataframe tbody tr th:only-of-type {\n",
       "        vertical-align: middle;\n",
       "    }\n",
       "\n",
       "    .dataframe tbody tr th {\n",
       "        vertical-align: top;\n",
       "    }\n",
       "\n",
       "    .dataframe thead th {\n",
       "        text-align: right;\n",
       "    }\n",
       "</style>\n",
       "<table border=\"1\" class=\"dataframe\">\n",
       "  <thead>\n",
       "    <tr style=\"text-align: right;\">\n",
       "      <th></th>\n",
       "      <th>-500</th>\n",
       "      <th>-499</th>\n",
       "      <th>-498</th>\n",
       "      <th>-497</th>\n",
       "      <th>-496</th>\n",
       "      <th>-495</th>\n",
       "      <th>-494</th>\n",
       "      <th>-493</th>\n",
       "      <th>-492</th>\n",
       "      <th>-491</th>\n",
       "      <th>...</th>\n",
       "      <th>92</th>\n",
       "      <th>93</th>\n",
       "      <th>94</th>\n",
       "      <th>95</th>\n",
       "      <th>96</th>\n",
       "      <th>97</th>\n",
       "      <th>98</th>\n",
       "      <th>99</th>\n",
       "      <th>opening_revenue</th>\n",
       "      <th>gross_revenue</th>\n",
       "    </tr>\n",
       "  </thead>\n",
       "  <tbody>\n",
       "    <tr>\n",
       "      <th>0</th>\n",
       "      <td>45</td>\n",
       "      <td>45</td>\n",
       "      <td>45</td>\n",
       "      <td>45</td>\n",
       "      <td>45</td>\n",
       "      <td>45</td>\n",
       "      <td>45</td>\n",
       "      <td>45</td>\n",
       "      <td>46</td>\n",
       "      <td>46</td>\n",
       "      <td>...</td>\n",
       "      <td>739</td>\n",
       "      <td>739</td>\n",
       "      <td>739</td>\n",
       "      <td>739</td>\n",
       "      <td>740</td>\n",
       "      <td>741</td>\n",
       "      <td>741</td>\n",
       "      <td>744</td>\n",
       "      <td>260138569</td>\n",
       "      <td>804793477</td>\n",
       "    </tr>\n",
       "    <tr>\n",
       "      <th>1</th>\n",
       "      <td>73</td>\n",
       "      <td>73</td>\n",
       "      <td>73</td>\n",
       "      <td>73</td>\n",
       "      <td>73</td>\n",
       "      <td>73</td>\n",
       "      <td>73</td>\n",
       "      <td>73</td>\n",
       "      <td>74</td>\n",
       "      <td>74</td>\n",
       "      <td>...</td>\n",
       "      <td>559</td>\n",
       "      <td>559</td>\n",
       "      <td>561</td>\n",
       "      <td>565</td>\n",
       "      <td>567</td>\n",
       "      <td>569</td>\n",
       "      <td>570</td>\n",
       "      <td>570</td>\n",
       "      <td>75388688</td>\n",
       "      <td>224543292</td>\n",
       "    </tr>\n",
       "    <tr>\n",
       "      <th>2</th>\n",
       "      <td>168</td>\n",
       "      <td>169</td>\n",
       "      <td>169</td>\n",
       "      <td>169</td>\n",
       "      <td>169</td>\n",
       "      <td>170</td>\n",
       "      <td>170</td>\n",
       "      <td>172</td>\n",
       "      <td>172</td>\n",
       "      <td>172</td>\n",
       "      <td>...</td>\n",
       "      <td>423</td>\n",
       "      <td>423</td>\n",
       "      <td>423</td>\n",
       "      <td>423</td>\n",
       "      <td>424</td>\n",
       "      <td>424</td>\n",
       "      <td>424</td>\n",
       "      <td>425</td>\n",
       "      <td>90033210</td>\n",
       "      <td>213550366</td>\n",
       "    </tr>\n",
       "    <tr>\n",
       "      <th>3</th>\n",
       "      <td>329</td>\n",
       "      <td>329</td>\n",
       "      <td>329</td>\n",
       "      <td>331</td>\n",
       "      <td>331</td>\n",
       "      <td>332</td>\n",
       "      <td>332</td>\n",
       "      <td>332</td>\n",
       "      <td>335</td>\n",
       "      <td>337</td>\n",
       "      <td>...</td>\n",
       "      <td>798</td>\n",
       "      <td>798</td>\n",
       "      <td>798</td>\n",
       "      <td>799</td>\n",
       "      <td>800</td>\n",
       "      <td>800</td>\n",
       "      <td>800</td>\n",
       "      <td>800</td>\n",
       "      <td>80366312</td>\n",
       "      <td>183651655</td>\n",
       "    </tr>\n",
       "    <tr>\n",
       "      <th>4</th>\n",
       "      <td>310</td>\n",
       "      <td>310</td>\n",
       "      <td>310</td>\n",
       "      <td>310</td>\n",
       "      <td>312</td>\n",
       "      <td>312</td>\n",
       "      <td>312</td>\n",
       "      <td>312</td>\n",
       "      <td>312</td>\n",
       "      <td>312</td>\n",
       "      <td>...</td>\n",
       "      <td>770</td>\n",
       "      <td>771</td>\n",
       "      <td>772</td>\n",
       "      <td>773</td>\n",
       "      <td>774</td>\n",
       "      <td>774</td>\n",
       "      <td>774</td>\n",
       "      <td>774</td>\n",
       "      <td>71297219</td>\n",
       "      <td>164870234</td>\n",
       "    </tr>\n",
       "  </tbody>\n",
       "</table>\n",
       "<p>5 rows × 602 columns</p>\n",
       "</div>"
      ],
      "text/plain": [
       "   -500  -499  -498  -497  -496  -495  -494  -493  -492  -491  ...   92   93  \\\n",
       "0    45    45    45    45    45    45    45    45    46    46  ...  739  739   \n",
       "1    73    73    73    73    73    73    73    73    74    74  ...  559  559   \n",
       "2   168   169   169   169   169   170   170   172   172   172  ...  423  423   \n",
       "3   329   329   329   331   331   332   332   332   335   337  ...  798  798   \n",
       "4   310   310   310   310   312   312   312   312   312   312  ...  770  771   \n",
       "\n",
       "    94   95   96   97   98   99  opening_revenue  gross_revenue  \n",
       "0  739  739  740  741  741  744        260138569      804793477  \n",
       "1  561  565  567  569  570  570         75388688      224543292  \n",
       "2  423  423  424  424  424  425         90033210      213550366  \n",
       "3  798  799  800  800  800  800         80366312      183651655  \n",
       "4  772  773  774  774  774  774         71297219      164870234  \n",
       "\n",
       "[5 rows x 602 columns]"
      ]
     },
     "execution_count": 443,
     "metadata": {},
     "output_type": "execute_result"
    }
   ],
   "source": [
    "users_per_day_df = get_corr_df(df, daily_users_per_page)\n",
    "users_corr = users_per_day_df.corr().iloc[600, :600]\n",
    "users_per_day_df.head()"
   ]
  },
  {
   "cell_type": "code",
   "execution_count": 444,
   "id": "1929c5b9",
   "metadata": {},
   "outputs": [],
   "source": [
    "# users_per_day_df.to_csv('data/aggregated_users_per_day.csv', index=False)"
   ]
  },
  {
   "cell_type": "code",
   "execution_count": 73,
   "id": "f0002b39",
   "metadata": {},
   "outputs": [
    {
     "data": {
      "text/plain": [
       "<matplotlib.legend.Legend at 0x2156eabb730>"
      ]
     },
     "execution_count": 73,
     "metadata": {},
     "output_type": "execute_result"
    },
    {
     "data": {
      "image/png": "[encoded data removed]",
      "text/plain": [
       "<Figure size 640x480 with 1 Axes>"
      ]
     },
     "metadata": {},
     "output_type": "display_data"
    }
   ],
   "source": [
    "fig, ax = plt.subplots()\n",
    "\n",
    "ax.plot(users_corr, color='red', label='Users')\n",
    "ax.plot(rigor_corr, color='orange', label='Rigor')\n",
    "ax.plot(edits_corr, color='steelblue', label='Edits')\n",
    "ax.plot(theaters_corr, color='green', label='Theaters', linestyle='dashed')\n",
    "\n",
    "ax.set_xlabel('Movie Time')\n",
    "ax.set_ylabel('Correlation')\n",
    "\n",
    "ax.legend()\n",
    "plt.show()"
   ]
  },
  {
   "cell_type": "markdown",
   "id": "5aa8e6ce",
   "metadata": {},
   "source": [
    "### Retrieve Pageviews -500 to +100 Days (Error for movies where page created +100 days after release)"
   ]
  },
  {
   "cell_type": "markdown",
   "id": "8cee818d",
   "metadata": {},
   "source": [
    "#### Retrieve as many past names of each Wikipedia page as possible (pageviews are not accredited to new page titles)"
   ]
  },
  {
   "cell_type": "code",
   "execution_count": 452,
   "id": "52386a0c",
   "metadata": {},
   "outputs": [],
   "source": [
    "# pattern = r'(?<=moved page ).*\\[\\[(.*?)\\]\\]'\n",
    "# pattern = r'\\[\\[(.*?)\\]\\](?=.*moved page)'\n",
    "# pattern = '\\[\\[(.*?)\\]\\]'\n",
    "pattern = r'(?<=moved page) \\[\\[(.*?)\\]\\](?:.*\\[\\[(.*?)\\]\\])*'\n",
    "\n",
    "no_title_moves = ['WP', 'Talk', 'User', 'Special', 'MOS', 'Comfy21']\n",
    "\n",
    "alternate_titles = []\n",
    "\n",
    "for page in page_histories:\n",
    "    alternate_page_title = []\n",
    "    for line in page:\n",
    "        result = re.findall(pattern, line[2])\n",
    "        if result != []:\n",
    "            for i in result[0]:\n",
    "                if i not in alternate_page_title and not i.startswith(tuple(no_title_moves)):\n",
    "                    alternate_page_title.append(i)\n",
    "    alternate_titles.append(alternate_page_title)"
   ]
  },
  {
   "cell_type": "code",
   "execution_count": 453,
   "id": "ca666a53",
   "metadata": {},
   "outputs": [
    {
     "data": {
      "text/plain": [
       "269"
      ]
     },
     "execution_count": 453,
     "metadata": {},
     "output_type": "execute_result"
    }
   ],
   "source": [
    "len(alternate_titles) # matches number of movies in data frame"
   ]
  },
  {
   "cell_type": "code",
   "execution_count": 454,
   "id": "56835f8e",
   "metadata": {},
   "outputs": [
    {
     "data": {
      "text/plain": [
       "[]"
      ]
     },
     "execution_count": 454,
     "metadata": {},
     "output_type": "execute_result"
    }
   ],
   "source": [
    "alternate_titles[120]"
   ]
  },
  {
   "cell_type": "markdown",
   "id": "6dcd761b",
   "metadata": {},
   "source": [
    "#### Rertrieve the pageviews for each 'version' of each Wikipedia page and merge the views for each movie"
   ]
  },
  {
   "cell_type": "markdown",
   "id": "17bc4008",
   "metadata": {},
   "source": [
    "Example API Query:<br>\n",
    "https://wikimedia.org/api/rest_v1/metrics/pageviews/per-article/en.wikipedia/all-access/user/Spider-Man:_No_Way_Home/daily/20200804/20210327"
   ]
  },
  {
   "cell_type": "code",
   "execution_count": 455,
   "id": "bd212fa7",
   "metadata": {},
   "outputs": [
    {
     "data": {
      "text/html": [
       "<div>\n",
       "<style scoped>\n",
       "    .dataframe tbody tr th:only-of-type {\n",
       "        vertical-align: middle;\n",
       "    }\n",
       "\n",
       "    .dataframe tbody tr th {\n",
       "        vertical-align: top;\n",
       "    }\n",
       "\n",
       "    .dataframe thead th {\n",
       "        text-align: right;\n",
       "    }\n",
       "</style>\n",
       "<table border=\"1\" class=\"dataframe\">\n",
       "  <thead>\n",
       "    <tr style=\"text-align: right;\">\n",
       "      <th></th>\n",
       "      <th>title</th>\n",
       "      <th>gross_revenue</th>\n",
       "      <th>n_theaters</th>\n",
       "      <th>opening_revenue</th>\n",
       "      <th>release_date</th>\n",
       "      <th>wiki_page</th>\n",
       "      <th>page_created_date</th>\n",
       "      <th>cutoff_date_pre</th>\n",
       "      <th>cutoff_date_post</th>\n",
       "    </tr>\n",
       "  </thead>\n",
       "  <tbody>\n",
       "    <tr>\n",
       "      <th>0</th>\n",
       "      <td>Spider-Man: No Way Home</td>\n",
       "      <td>$804,793,477</td>\n",
       "      <td>4,336</td>\n",
       "      <td>$260,138,569</td>\n",
       "      <td>2021-12-17</td>\n",
       "      <td>Spider-Man:_No_Way_Home</td>\n",
       "      <td>2016-11-10</td>\n",
       "      <td>2020-08-04</td>\n",
       "      <td>2022-03-27</td>\n",
       "    </tr>\n",
       "  </tbody>\n",
       "</table>\n",
       "</div>"
      ],
      "text/plain": [
       "                     title gross_revenue n_theaters opening_revenue  \\\n",
       "0  Spider-Man: No Way Home  $804,793,477      4,336    $260,138,569   \n",
       "\n",
       "  release_date                wiki_page page_created_date cutoff_date_pre  \\\n",
       "0   2021-12-17  Spider-Man:_No_Way_Home        2016-11-10      2020-08-04   \n",
       "\n",
       "  cutoff_date_post  \n",
       "0       2022-03-27  "
      ]
     },
     "execution_count": 455,
     "metadata": {},
     "output_type": "execute_result"
    }
   ],
   "source": [
    "df.head(1)"
   ]
  },
  {
   "cell_type": "code",
   "execution_count": 456,
   "id": "b7ceec80",
   "metadata": {},
   "outputs": [],
   "source": [
    "def get_pageviews(df, alternate_titles, page_creation, end):\n",
    "    headers = {'User-Agent': 'Mozilla/5.0 (Macintosh; Intel Mac OS X 10_11_5) AppleWebKit/537.36 (KHTML, like Gecko) Chrome/50.0.2661.102 Safari/537.36'}\n",
    "    pageviews_all = []\n",
    "    i = 0\n",
    "    \n",
    "    url = f'https://wikimedia.org/api/rest_v1/metrics/pageviews/per-article/en.wikipedia/all-access/user/'\n",
    "\n",
    "    for page in df['wiki_page']:\n",
    "        pageviews_movie = []\n",
    "        pageviews_page = []\n",
    "        \n",
    "        pre = df[page_creation][i].strftime('%Y%m%d')\n",
    "        post = df[end][i].strftime('%Y%m%d')\n",
    "        \n",
    "        ending = f'/daily/{pre}/{post}'\n",
    "        try:\n",
    "            data_raw = requests.get(url + page + ending, headers=headers)\n",
    "            data = data_raw.json()\n",
    "        except:\n",
    "            print('I:', i, page, url + page + ending, data)\n",
    "        try:\n",
    "            for date in data['items']:\n",
    "                pageviews_page.append([datetime.strptime(date['timestamp'], '%Y%m%d%H'), date['views']])\n",
    "                \n",
    "        except:\n",
    "            pageviews_page.append([datetime(2000, 1, 1), 0])\n",
    "            print('II:', i, page, data)\n",
    "\n",
    "        pageviews_movie.append(pageviews_page)\n",
    "        \n",
    "        for title in alternate_titles[i]:\n",
    "            data_raw = requests.get(url + title + ending, headers=headers)\n",
    "            data = data_raw.json()\n",
    "            pageviews_page = []\n",
    "            \n",
    "            try:\n",
    "                for date in data['items']:\n",
    "                    pageviews_page.append([datetime.strptime(date['timestamp'], '%Y%m%d%H'), date['views']])\n",
    "            \n",
    "            except:\n",
    "                pageviews_page.append([datetime(2000, 1, 1), 0])\n",
    "                print('III:', i, title, data)\n",
    "            \n",
    "            if pageviews_page not in pageviews_movie:\n",
    "                pageviews_movie.append(pageviews_page)\n",
    "            \n",
    "        pageviews_all.append(pageviews_movie)\n",
    "        i += 1\n",
    "    return pageviews_all"
   ]
  },
  {
   "cell_type": "code",
   "execution_count": 457,
   "id": "15ebef28",
   "metadata": {
    "scrolled": true
   },
   "outputs": [
    {
     "name": "stdout",
     "output_type": "stream",
     "text": [
      "III: 22 Draft:Untitled Ridley Scott/Lady Gaga Gucci murder film {'type': 'https://mediawiki.org/wiki/HyperSwitch/errors/not_found#route', 'title': 'Not found.', 'method': 'get', 'uri': '/wikimedia.org/v1/metrics/pageviews/per-article/en.wikipedia/all-access/user/Draft%3AUntitled%20Ridley%20Scott/Lady%20Gaga%20Gucci%20murder%20film/daily/20191101/20220304'}\n",
      "III: 26 Draft:Move/The Forever Purge {'type': 'https://mediawiki.org/wiki/HyperSwitch/errors/not_found#route', 'title': 'Not found.', 'method': 'get', 'uri': '/wikimedia.org/v1/metrics/pageviews/per-article/en.wikipedia/all-access/user/Draft%3AMove/The%20Forever%20Purge/daily/20190918/20211010'}\n",
      "III: 42 Variety (website)|Variety {'type': 'https://mediawiki.org/wiki/HyperSwitch/errors/not_found', 'title': 'Not found.', 'method': 'get', 'detail': 'The date(s) you used are valid, but we either do not have data for those date(s), or the project you asked for is not loaded yet.  Please check https://wikimedia.org/api/rest_v1/?doc for more information.', 'uri': '/analytics.wikimedia.org/v1/pageviews/per-article/en.wikipedia/all-access/user/Variety%20(website)%7CVariety/daily/20190402/20210822'}\n",
      "II: 84 The_Most_Reluctant_Convert {'type': 'https://mediawiki.org/wiki/HyperSwitch/errors/not_found', 'title': 'Not found.', 'method': 'get', 'detail': 'The date(s) you used are valid, but we either do not have data for those date(s), or the project you asked for is not loaded yet.  Please check https://wikimedia.org/api/rest_v1/?doc for more information.', 'uri': '/analytics.wikimedia.org/v1/pageviews/per-article/en.wikipedia/all-access/user/The_Most_Reluctant_Convert/daily/20210930/20220211'}\n",
      "III: 84 Draft:The Most Reluctant Convert {'type': 'https://mediawiki.org/wiki/HyperSwitch/errors/not_found', 'title': 'Not found.', 'method': 'get', 'detail': 'The date(s) you used are valid, but we either do not have data for those date(s), or the project you asked for is not loaded yet.  Please check https://wikimedia.org/api/rest_v1/?doc for more information.', 'uri': '/analytics.wikimedia.org/v1/pageviews/per-article/en.wikipedia/all-access/user/Draft%3AThe%20Most%20Reluctant%20Convert/daily/20210930/20220211'}\n",
      "II: 121 If_I_Can%27t_Have_Love,_I_Want_Power_(film) {'type': 'https://mediawiki.org/wiki/HyperSwitch/errors/invalid_request', 'method': 'get', 'detail': ['start timestamp should be before the end timestamp'], 'uri': \"/analytics.wikimedia.org/v1/pageviews/per-article/en.wikipedia/all-access/user/If_I_Can't_Have_Love%2C_I_Want_Power_(film)/daily/20230518/20211203\"}\n",
      "III: 121 Draft:If I Can't Have Love, I Want Power (film) {'type': 'https://mediawiki.org/wiki/HyperSwitch/errors/invalid_request', 'method': 'get', 'detail': ['start timestamp should be before the end timestamp'], 'uri': \"/analytics.wikimedia.org/v1/pageviews/per-article/en.wikipedia/all-access/user/Draft%3AIf%20I%20Can't%20Have%20Love%2C%20I%20Want%20Power%20(film)/daily/20230518/20211203\"}\n",
      "II: 160 The_Unthinkable_(2021_film) {'type': 'https://mediawiki.org/wiki/HyperSwitch/errors/invalid_request', 'method': 'get', 'detail': ['start timestamp should be before the end timestamp'], 'uri': '/analytics.wikimedia.org/v1/pageviews/per-article/en.wikipedia/all-access/user/The_Unthinkable_(2021_film)/daily/20211017/20210815'}\n",
      "III: 160 The Unthinkable (2021 Documentary) {'type': 'https://mediawiki.org/wiki/HyperSwitch/errors/invalid_request', 'method': 'get', 'detail': ['start timestamp should be before the end timestamp'], 'uri': '/analytics.wikimedia.org/v1/pageviews/per-article/en.wikipedia/all-access/user/The%20Unthinkable%20(2021%20Documentary)/daily/20211017/20210815'}\n",
      "III: 160 The Unthinkable (2021 film) {'type': 'https://mediawiki.org/wiki/HyperSwitch/errors/invalid_request', 'method': 'get', 'detail': ['start timestamp should be before the end timestamp'], 'uri': '/analytics.wikimedia.org/v1/pageviews/per-article/en.wikipedia/all-access/user/The%20Unthinkable%20(2021%20film)/daily/20211017/20210815'}\n",
      "II: 164 Slalom_(2020_film) {'type': 'https://mediawiki.org/wiki/HyperSwitch/errors/invalid_request', 'method': 'get', 'detail': ['start timestamp should be before the end timestamp'], 'uri': '/analytics.wikimedia.org/v1/pageviews/per-article/en.wikipedia/all-access/user/Slalom_(2020_film)/daily/20230227/20210718'}\n",
      "II: 170 Here_After_(film) {'type': 'https://mediawiki.org/wiki/HyperSwitch/errors/invalid_request', 'method': 'get', 'detail': ['start timestamp should be before the end timestamp'], 'uri': '/analytics.wikimedia.org/v1/pageviews/per-article/en.wikipedia/all-access/user/Here_After_(film)/daily/20230511/20211031'}\n",
      "III: 170 10 Things We Should Do Before We Break Up {'type': 'https://mediawiki.org/wiki/HyperSwitch/errors/invalid_request', 'method': 'get', 'detail': ['start timestamp should be before the end timestamp'], 'uri': '/analytics.wikimedia.org/v1/pageviews/per-article/en.wikipedia/all-access/user/10%20Things%20We%20Should%20Do%20Before%20We%20Break%20Up/daily/20230511/20211031'}\n",
      "III: 170 Here After (film) {'type': 'https://mediawiki.org/wiki/HyperSwitch/errors/invalid_request', 'method': 'get', 'detail': ['start timestamp should be before the end timestamp'], 'uri': '/analytics.wikimedia.org/v1/pageviews/per-article/en.wikipedia/all-access/user/Here%20After%20(film)/daily/20230511/20211031'}\n",
      "II: 172 Dark_State_(film) {'type': 'https://mediawiki.org/wiki/HyperSwitch/errors/invalid_request', 'method': 'get', 'detail': ['start timestamp should be before the end timestamp'], 'uri': '/analytics.wikimedia.org/v1/pageviews/per-article/en.wikipedia/all-access/user/Dark_State_(film)/daily/20211104/20210627'}\n",
      "II: 177 Little_Girl_(film) {'type': 'https://mediawiki.org/wiki/HyperSwitch/errors/invalid_request', 'method': 'get', 'detail': ['start timestamp should be before the end timestamp'], 'uri': '/analytics.wikimedia.org/v1/pageviews/per-article/en.wikipedia/all-access/user/Little_Girl_(film)/daily/20220306/20211226'}\n",
      "III: 177 Petite Fille (2020 Film) {'type': 'https://mediawiki.org/wiki/HyperSwitch/errors/invalid_request', 'method': 'get', 'detail': ['start timestamp should be before the end timestamp'], 'uri': '/analytics.wikimedia.org/v1/pageviews/per-article/en.wikipedia/all-access/user/Petite%20Fille%20(2020%20Film)/daily/20220306/20211226'}\n",
      "III: 177 Petite Fille (film) {'type': 'https://mediawiki.org/wiki/HyperSwitch/errors/invalid_request', 'method': 'get', 'detail': ['start timestamp should be before the end timestamp'], 'uri': '/analytics.wikimedia.org/v1/pageviews/per-article/en.wikipedia/all-access/user/Petite%20Fille%20(film)/daily/20220306/20211226'}\n",
      "II: 207 Mama_Weed {'type': 'https://mediawiki.org/wiki/HyperSwitch/errors/invalid_request', 'method': 'get', 'detail': ['start timestamp should be before the end timestamp'], 'uri': '/analytics.wikimedia.org/v1/pageviews/per-article/en.wikipedia/all-access/user/Mama_Weed/daily/20230318/20211024'}\n",
      "II: 229 Last_Call_(2020_film) {'type': 'https://mediawiki.org/wiki/HyperSwitch/errors/invalid_request', 'method': 'get', 'detail': ['start timestamp should be before the end timestamp'], 'uri': '/analytics.wikimedia.org/v1/pageviews/per-article/en.wikipedia/all-access/user/Last_Call_(2020_film)/daily/20220817/20210627'}\n",
      "II: 238 Kurt_Vonnegut:_Unstuck_in_Time {'type': 'https://mediawiki.org/wiki/HyperSwitch/errors/invalid_request', 'method': 'get', 'detail': ['start timestamp should be before the end timestamp'], 'uri': '/analytics.wikimedia.org/v1/pageviews/per-article/en.wikipedia/all-access/user/Kurt_Vonnegut%3A_Unstuck_in_Time/daily/20220519/20220227'}\n",
      "III: 238 Draft:Kurt Vonnegut: Unstuck in Time {'type': 'https://mediawiki.org/wiki/HyperSwitch/errors/invalid_request', 'method': 'get', 'detail': ['start timestamp should be before the end timestamp'], 'uri': '/analytics.wikimedia.org/v1/pageviews/per-article/en.wikipedia/all-access/user/Draft%3AKurt%20Vonnegut%3A%20Unstuck%20in%20Time/daily/20220519/20220227'}\n"
     ]
    }
   ],
   "source": [
    "all_titles_all_pageviews = get_pageviews(df, alternate_titles, 'page_created_date', 'cutoff_date_post')"
   ]
  },
  {
   "cell_type": "code",
   "execution_count": 458,
   "id": "70aed8ce",
   "metadata": {
    "scrolled": false
   },
   "outputs": [],
   "source": [
    "def create_daterange_views(data, start, end):\n",
    "    \n",
    "    date_range = pd.date_range(start, end)\n",
    "    df_dates = pd.DataFrame(date_range, columns=['date'])\n",
    "    i = 0\n",
    "    \n",
    "    for page in data:\n",
    "        df = pd.DataFrame(page, columns=['date', 'views'])\n",
    "    \n",
    "        merge = df_dates.merge(df, on='date', how='left').fillna(0)\n",
    "        \n",
    "        df_dates[i] = merge['views']\n",
    "        i += 1\n",
    "    \n",
    "    df_dates['views'] = df_dates.sum(axis=1, numeric_only=True)\n",
    "    \n",
    "    output = []\n",
    "    \n",
    "    for i in range(len(df_dates)):\n",
    "        output.append([df_dates['date'][i], df_dates['views'][i]])\n",
    "    \n",
    "    return output"
   ]
  },
  {
   "cell_type": "code",
   "execution_count": 459,
   "id": "ff65106c",
   "metadata": {},
   "outputs": [],
   "source": [
    "pageviews = []\n",
    "\n",
    "for i in range(len(all_titles_all_pageviews)):\n",
    "    pageviews.append(create_daterange_views(all_titles_all_pageviews[i], df['page_created_date'][i], df['cutoff_date_post'][i]))"
   ]
  },
  {
   "cell_type": "code",
   "execution_count": 460,
   "id": "2d6d495b",
   "metadata": {
    "scrolled": true
   },
   "outputs": [
    {
     "data": {
      "text/plain": [
       "269"
      ]
     },
     "execution_count": 460,
     "metadata": {},
     "output_type": "execute_result"
    }
   ],
   "source": [
    "len(pageviews)"
   ]
  },
  {
   "cell_type": "code",
   "execution_count": 461,
   "id": "6f5e1fd2",
   "metadata": {},
   "outputs": [],
   "source": [
    "def calculate_aggregate_pageviews(pageviews_raw, df):\n",
    "    \n",
    "    pageviews_all = []\n",
    "    \n",
    "    for i in range(len(df)):\n",
    "        pageviews_movie = []\n",
    "        n_views = 0\n",
    "        \n",
    "        start = df['cutoff_date_pre'][i]\n",
    "        \n",
    "        date_range = pd.date_range(start, periods=600).tolist()\n",
    "        \n",
    "        j = 0\n",
    "       \n",
    "        try:\n",
    "            while pageviews_raw[i][j][0] < start:\n",
    "                n_views += pageviews_raw[i][j][1]\n",
    "                j += 1\n",
    "                \n",
    "        except:\n",
    "            pageviews_movie.append(n_views)\n",
    "            \n",
    "        try:    \n",
    "            for date in date_range:\n",
    "                while pageviews_raw[i][j][0] == date:\n",
    "                    n_views += pageviews_raw[i][j][1]\n",
    "                    j += 1\n",
    "\n",
    "                pageviews_movie.append(n_views)\n",
    "                \n",
    "        except:\n",
    "            pass\n",
    "            \n",
    "        pageviews_all.append(pageviews_movie)\n",
    "        \n",
    "    return pageviews_all"
   ]
  },
  {
   "cell_type": "code",
   "execution_count": 462,
   "id": "df170057",
   "metadata": {
    "scrolled": true
   },
   "outputs": [],
   "source": [
    "aggregate_pageviews_per_day = calculate_aggregate_pageviews(pageviews, df)"
   ]
  },
  {
   "cell_type": "code",
   "execution_count": 463,
   "id": "94e813dd",
   "metadata": {},
   "outputs": [
    {
     "data": {
      "text/plain": [
       "269"
      ]
     },
     "execution_count": 463,
     "metadata": {},
     "output_type": "execute_result"
    }
   ],
   "source": [
    "len(aggregate_pageviews_per_day)"
   ]
  },
  {
   "cell_type": "code",
   "execution_count": 464,
   "id": "5072ee45",
   "metadata": {},
   "outputs": [],
   "source": [
    "pageviews_per_day_df = get_corr_df(df, aggregate_pageviews_per_day)\n",
    "pageviews_corr = pageviews_per_day_df.corr().iloc[600, :600]"
   ]
  },
  {
   "cell_type": "code",
   "execution_count": 465,
   "id": "695e5bfa",
   "metadata": {},
   "outputs": [
    {
     "data": {
      "text/html": [
       "<div>\n",
       "<style scoped>\n",
       "    .dataframe tbody tr th:only-of-type {\n",
       "        vertical-align: middle;\n",
       "    }\n",
       "\n",
       "    .dataframe tbody tr th {\n",
       "        vertical-align: top;\n",
       "    }\n",
       "\n",
       "    .dataframe thead th {\n",
       "        text-align: right;\n",
       "    }\n",
       "</style>\n",
       "<table border=\"1\" class=\"dataframe\">\n",
       "  <thead>\n",
       "    <tr style=\"text-align: right;\">\n",
       "      <th></th>\n",
       "      <th>-500</th>\n",
       "      <th>-499</th>\n",
       "      <th>-498</th>\n",
       "      <th>-497</th>\n",
       "      <th>-496</th>\n",
       "      <th>-495</th>\n",
       "      <th>-494</th>\n",
       "      <th>-493</th>\n",
       "      <th>-492</th>\n",
       "      <th>-491</th>\n",
       "      <th>...</th>\n",
       "      <th>92</th>\n",
       "      <th>93</th>\n",
       "      <th>94</th>\n",
       "      <th>95</th>\n",
       "      <th>96</th>\n",
       "      <th>97</th>\n",
       "      <th>98</th>\n",
       "      <th>99</th>\n",
       "      <th>opening_revenue</th>\n",
       "      <th>gross_revenue</th>\n",
       "    </tr>\n",
       "  </thead>\n",
       "  <tbody>\n",
       "    <tr>\n",
       "      <th>0</th>\n",
       "      <td>26659.0</td>\n",
       "      <td>26717.0</td>\n",
       "      <td>26809.0</td>\n",
       "      <td>26879.0</td>\n",
       "      <td>26975.0</td>\n",
       "      <td>27066.0</td>\n",
       "      <td>27156.0</td>\n",
       "      <td>27232.0</td>\n",
       "      <td>27324.0</td>\n",
       "      <td>27426.0</td>\n",
       "      <td>...</td>\n",
       "      <td>28800611.0</td>\n",
       "      <td>28880311.0</td>\n",
       "      <td>28939493.0</td>\n",
       "      <td>28988298.0</td>\n",
       "      <td>29032791.0</td>\n",
       "      <td>29077280.0</td>\n",
       "      <td>29121665.0</td>\n",
       "      <td>29174361.0</td>\n",
       "      <td>260138569</td>\n",
       "      <td>804793477</td>\n",
       "    </tr>\n",
       "    <tr>\n",
       "      <th>1</th>\n",
       "      <td>477758.0</td>\n",
       "      <td>483011.0</td>\n",
       "      <td>487926.0</td>\n",
       "      <td>492800.0</td>\n",
       "      <td>499149.0</td>\n",
       "      <td>505398.0</td>\n",
       "      <td>510856.0</td>\n",
       "      <td>516103.0</td>\n",
       "      <td>521016.0</td>\n",
       "      <td>525785.0</td>\n",
       "      <td>...</td>\n",
       "      <td>14171376.0</td>\n",
       "      <td>14213176.0</td>\n",
       "      <td>14246598.0</td>\n",
       "      <td>14278854.0</td>\n",
       "      <td>14306563.0</td>\n",
       "      <td>14329849.0</td>\n",
       "      <td>14354528.0</td>\n",
       "      <td>14387094.0</td>\n",
       "      <td>75388688</td>\n",
       "      <td>224543292</td>\n",
       "    </tr>\n",
       "    <tr>\n",
       "      <th>2</th>\n",
       "      <td>1091945.0</td>\n",
       "      <td>1095679.0</td>\n",
       "      <td>1099647.0</td>\n",
       "      <td>1103764.0</td>\n",
       "      <td>1108705.0</td>\n",
       "      <td>1113519.0</td>\n",
       "      <td>1118178.0</td>\n",
       "      <td>1122047.0</td>\n",
       "      <td>1125608.0</td>\n",
       "      <td>1128819.0</td>\n",
       "      <td>...</td>\n",
       "      <td>10193205.0</td>\n",
       "      <td>10226150.0</td>\n",
       "      <td>10252865.0</td>\n",
       "      <td>10275837.0</td>\n",
       "      <td>10296037.0</td>\n",
       "      <td>10316879.0</td>\n",
       "      <td>10336745.0</td>\n",
       "      <td>10360134.0</td>\n",
       "      <td>90033210</td>\n",
       "      <td>213550366</td>\n",
       "    </tr>\n",
       "    <tr>\n",
       "      <th>3</th>\n",
       "      <td>3305666.0</td>\n",
       "      <td>3313378.0</td>\n",
       "      <td>3321186.0</td>\n",
       "      <td>3328614.0</td>\n",
       "      <td>3337040.0</td>\n",
       "      <td>3347149.0</td>\n",
       "      <td>3356855.0</td>\n",
       "      <td>3365846.0</td>\n",
       "      <td>3374739.0</td>\n",
       "      <td>3384651.0</td>\n",
       "      <td>...</td>\n",
       "      <td>16372661.0</td>\n",
       "      <td>16443902.0</td>\n",
       "      <td>16488464.0</td>\n",
       "      <td>16519011.0</td>\n",
       "      <td>16545309.0</td>\n",
       "      <td>16569164.0</td>\n",
       "      <td>16596360.0</td>\n",
       "      <td>16635480.0</td>\n",
       "      <td>80366312</td>\n",
       "      <td>183651655</td>\n",
       "    </tr>\n",
       "    <tr>\n",
       "      <th>4</th>\n",
       "      <td>3432364.0</td>\n",
       "      <td>3437719.0</td>\n",
       "      <td>3442655.0</td>\n",
       "      <td>3447587.0</td>\n",
       "      <td>3453579.0</td>\n",
       "      <td>3461237.0</td>\n",
       "      <td>3467761.0</td>\n",
       "      <td>3473208.0</td>\n",
       "      <td>3478698.0</td>\n",
       "      <td>3483895.0</td>\n",
       "      <td>...</td>\n",
       "      <td>21667863.0</td>\n",
       "      <td>21713600.0</td>\n",
       "      <td>21743645.0</td>\n",
       "      <td>21766723.0</td>\n",
       "      <td>21787877.0</td>\n",
       "      <td>21807640.0</td>\n",
       "      <td>21828818.0</td>\n",
       "      <td>21857713.0</td>\n",
       "      <td>71297219</td>\n",
       "      <td>164870234</td>\n",
       "    </tr>\n",
       "  </tbody>\n",
       "</table>\n",
       "<p>5 rows × 602 columns</p>\n",
       "</div>"
      ],
      "text/plain": [
       "        -500       -499       -498       -497       -496       -495  \\\n",
       "0    26659.0    26717.0    26809.0    26879.0    26975.0    27066.0   \n",
       "1   477758.0   483011.0   487926.0   492800.0   499149.0   505398.0   \n",
       "2  1091945.0  1095679.0  1099647.0  1103764.0  1108705.0  1113519.0   \n",
       "3  3305666.0  3313378.0  3321186.0  3328614.0  3337040.0  3347149.0   \n",
       "4  3432364.0  3437719.0  3442655.0  3447587.0  3453579.0  3461237.0   \n",
       "\n",
       "        -494       -493       -492       -491  ...          92          93  \\\n",
       "0    27156.0    27232.0    27324.0    27426.0  ...  28800611.0  28880311.0   \n",
       "1   510856.0   516103.0   521016.0   525785.0  ...  14171376.0  14213176.0   \n",
       "2  1118178.0  1122047.0  1125608.0  1128819.0  ...  10193205.0  10226150.0   \n",
       "3  3356855.0  3365846.0  3374739.0  3384651.0  ...  16372661.0  16443902.0   \n",
       "4  3467761.0  3473208.0  3478698.0  3483895.0  ...  21667863.0  21713600.0   \n",
       "\n",
       "           94          95          96          97          98          99  \\\n",
       "0  28939493.0  28988298.0  29032791.0  29077280.0  29121665.0  29174361.0   \n",
       "1  14246598.0  14278854.0  14306563.0  14329849.0  14354528.0  14387094.0   \n",
       "2  10252865.0  10275837.0  10296037.0  10316879.0  10336745.0  10360134.0   \n",
       "3  16488464.0  16519011.0  16545309.0  16569164.0  16596360.0  16635480.0   \n",
       "4  21743645.0  21766723.0  21787877.0  21807640.0  21828818.0  21857713.0   \n",
       "\n",
       "   opening_revenue  gross_revenue  \n",
       "0        260138569      804793477  \n",
       "1         75388688      224543292  \n",
       "2         90033210      213550366  \n",
       "3         80366312      183651655  \n",
       "4         71297219      164870234  \n",
       "\n",
       "[5 rows x 602 columns]"
      ]
     },
     "execution_count": 465,
     "metadata": {},
     "output_type": "execute_result"
    }
   ],
   "source": [
    "pageviews_per_day_df.head()"
   ]
  },
  {
   "cell_type": "code",
   "execution_count": 467,
   "id": "155c62f3",
   "metadata": {},
   "outputs": [],
   "source": [
    "# pageviews_per_day_df.to_csv('data/aggregated_pageviews_per_day.csv', index=False)"
   ]
  },
  {
   "cell_type": "code",
   "execution_count": 466,
   "id": "ec95f7d8",
   "metadata": {
    "scrolled": false
   },
   "outputs": [
    {
     "data": {
      "image/png": "[encoded data removed]",
      "text/plain": [
       "<Figure size 640x480 with 2 Axes>"
      ]
     },
     "metadata": {},
     "output_type": "display_data"
    }
   ],
   "source": [
    "fig, ax = plt.subplots()\n",
    "\n",
    "ax.plot(pageviews_corr, color='blue', label='Views')\n",
    "ax.plot(users_corr, color='red', label='Users')\n",
    "ax.plot(rigor_corr, color='orange', label='Rigor')\n",
    "ax.plot(edits_corr, color='green', label='Edits')\n",
    "ax.plot(theaters_corr, color='grey', label='Theaters', linestyle='dashed')\n",
    "\n",
    "ax.set_xlabel('Days')\n",
    "ax.set_ylabel('Correlation Coefficient')\n",
    "\n",
    "ax.legend(bbox_to_anchor=(1, 1))\n",
    "\n",
    "# Create a new axis inside the original one\n",
    "ax2 = fig.add_axes([0.2, 0.6, 0.25, 0.4])\n",
    "\n",
    "# Plot the zoomed region on the new axis\n",
    "ax2.plot(pageviews_corr, color='blue')\n",
    "ax2.plot(users_corr, color='red')\n",
    "ax2.plot(rigor_corr, color='orange')\n",
    "ax2.plot(edits_corr, color='green')\n",
    "ax2.plot(theaters_corr, color='grey', linestyle='dashed')\n",
    "\n",
    "# Set the limits of the new axis to zoom in\n",
    "ax2.set_xlim(-30, 30)\n",
    "ax2.set_ylim(0.65, 0.8)\n",
    "\n",
    "\n",
    "plt.show()"
   ]
  },
  {
   "cell_type": "code",
   "execution_count": 597,
   "id": "385d5bb2",
   "metadata": {},
   "outputs": [
    {
     "data": {
      "image/png": "[encoded data removed]",
      "text/plain": [
       "<Figure size 640x480 with 2 Axes>"
      ]
     },
     "metadata": {},
     "output_type": "display_data"
    }
   ],
   "source": [
    "fig, ax = plt.subplots()\n",
    "\n",
    "ax.plot(pageviews_corr, color='blue', label='Views')\n",
    "ax.plot(users_corr, color='red', label='Users')\n",
    "ax.plot(rigor_corr, color='orange', label='Rigor')\n",
    "ax.plot(edits_corr, color='green', label='Edits')\n",
    "ax.plot(theaters_corr, color='grey', label='Theaters', linestyle='dashed')\n",
    "\n",
    "ax.set_xlabel('Days')\n",
    "ax.set_ylabel('Correlation Coefficient')\n",
    "\n",
    "ax.legend(bbox_to_anchor=(1, 1))\n",
    "\n",
    "# Create a new axis inside the original one\n",
    "ax2 = fig.add_axes([0.2, 0.6, 0.25, 0.4])\n",
    "\n",
    "# Plot the zoomed region on the new axis\n",
    "ax2.plot(pageviews_corr, color='blue')\n",
    "ax2.plot(users_corr, color='red')\n",
    "ax2.plot(rigor_corr, color='orange')\n",
    "ax2.plot(edits_corr, color='green')\n",
    "ax2.plot(theaters_corr, color='grey', linestyle='dashed')\n",
    "\n",
    "# Set the limits of the new axis to zoom in\n",
    "ax2.set_xlim(-125, -105)\n",
    "ax2.set_ylim(0.5, 0.65)\n",
    "\n",
    "\n",
    "plt.show()"
   ]
  },
  {
   "cell_type": "markdown",
   "id": "a96f283a",
   "metadata": {},
   "source": [
    "#### Can it be that the number of theaters has such a 'low' correlation coefficient?! Yes..."
   ]
  },
  {
   "cell_type": "code",
   "execution_count": 550,
   "id": "69e1073e",
   "metadata": {},
   "outputs": [],
   "source": [
    "corr_df['n_theaters'] = pd.to_numeric(corr_df['n_theaters'], errors='coerce')\n",
    "corr_df['opening_revenue'] = pd.to_numeric(corr_df['opening_revenue'], errors='coerce')"
   ]
  },
  {
   "cell_type": "code",
   "execution_count": 551,
   "id": "64ef46b1",
   "metadata": {
    "scrolled": true
   },
   "outputs": [
    {
     "data": {
      "text/plain": [
       "0.5492823678893406"
      ]
     },
     "execution_count": 551,
     "metadata": {},
     "output_type": "execute_result"
    }
   ],
   "source": [
    "corr_df['n_theaters'].corr(corr_df['opening_revenue'])"
   ]
  },
  {
   "cell_type": "markdown",
   "id": "d5baf8ff",
   "metadata": {},
   "source": [
    "### Train the Regression Models"
   ]
  },
  {
   "cell_type": "code",
   "execution_count": 151,
   "id": "f61e5755",
   "metadata": {
    "scrolled": false
   },
   "outputs": [
    {
     "data": {
      "text/html": [
       "<div>\n",
       "<style scoped>\n",
       "    .dataframe tbody tr th:only-of-type {\n",
       "        vertical-align: middle;\n",
       "    }\n",
       "\n",
       "    .dataframe tbody tr th {\n",
       "        vertical-align: top;\n",
       "    }\n",
       "\n",
       "    .dataframe thead th {\n",
       "        text-align: right;\n",
       "    }\n",
       "</style>\n",
       "<table border=\"1\" class=\"dataframe\">\n",
       "  <thead>\n",
       "    <tr style=\"text-align: right;\">\n",
       "      <th></th>\n",
       "      <th>title</th>\n",
       "      <th>gross_revenue</th>\n",
       "      <th>n_theaters</th>\n",
       "      <th>opening_revenue</th>\n",
       "      <th>release_date</th>\n",
       "      <th>wiki_page</th>\n",
       "      <th>page_created_date</th>\n",
       "      <th>cutoff_date_pre</th>\n",
       "      <th>cutoff_date_post</th>\n",
       "    </tr>\n",
       "  </thead>\n",
       "  <tbody>\n",
       "    <tr>\n",
       "      <th>0</th>\n",
       "      <td>Spider-Man: No Way Home</td>\n",
       "      <td>$804,793,477</td>\n",
       "      <td>4,336</td>\n",
       "      <td>$260,138,569</td>\n",
       "      <td>2021-12-17</td>\n",
       "      <td>Spider-Man:_No_Way_Home</td>\n",
       "      <td>2016-11-10</td>\n",
       "      <td>2020-08-04</td>\n",
       "      <td>2022-03-27</td>\n",
       "    </tr>\n",
       "    <tr>\n",
       "      <th>1</th>\n",
       "      <td>Shang-Chi and the Legend of the Ten Rings</td>\n",
       "      <td>$224,543,292</td>\n",
       "      <td>4,300</td>\n",
       "      <td>$75,388,688</td>\n",
       "      <td>2021-09-03</td>\n",
       "      <td>Shang-Chi_and_the_Legend_of_the_Ten_Rings</td>\n",
       "      <td>2018-12-03</td>\n",
       "      <td>2020-04-21</td>\n",
       "      <td>2021-12-12</td>\n",
       "    </tr>\n",
       "    <tr>\n",
       "      <th>2</th>\n",
       "      <td>Venom: Let There Be Carnage</td>\n",
       "      <td>$213,550,366</td>\n",
       "      <td>4,225</td>\n",
       "      <td>$90,033,210</td>\n",
       "      <td>2021-10-01</td>\n",
       "      <td>Venom:_Let_There_Be_Carnage</td>\n",
       "      <td>2018-11-23</td>\n",
       "      <td>2020-05-19</td>\n",
       "      <td>2022-01-09</td>\n",
       "    </tr>\n",
       "  </tbody>\n",
       "</table>\n",
       "</div>"
      ],
      "text/plain": [
       "                                       title gross_revenue n_theaters  \\\n",
       "0                    Spider-Man: No Way Home  $804,793,477      4,336   \n",
       "1  Shang-Chi and the Legend of the Ten Rings  $224,543,292      4,300   \n",
       "2                Venom: Let There Be Carnage  $213,550,366      4,225   \n",
       "\n",
       "  opening_revenue release_date                                  wiki_page  \\\n",
       "0    $260,138,569   2021-12-17                    Spider-Man:_No_Way_Home   \n",
       "1     $75,388,688   2021-09-03  Shang-Chi_and_the_Legend_of_the_Ten_Rings   \n",
       "2     $90,033,210   2021-10-01                Venom:_Let_There_Be_Carnage   \n",
       "\n",
       "  page_created_date cutoff_date_pre cutoff_date_post  \n",
       "0        2016-11-10      2020-08-04       2022-03-27  \n",
       "1        2018-12-03      2020-04-21       2021-12-12  \n",
       "2        2018-11-23      2020-05-19       2022-01-09  "
      ]
     },
     "execution_count": 151,
     "metadata": {},
     "output_type": "execute_result"
    }
   ],
   "source": [
    "df.head(3)"
   ]
  },
  {
   "cell_type": "markdown",
   "id": "039aff3b",
   "metadata": {},
   "source": [
    "#### Edits"
   ]
  },
  {
   "cell_type": "code",
   "execution_count": 468,
   "id": "ae402cb0",
   "metadata": {},
   "outputs": [],
   "source": [
    "edits_df = pd.read_csv('data/aggregated_edits_per_day.csv')\n",
    "rigor_df = pd.read_csv('data/aggregated_rigor_per_day.csv')\n",
    "users_df = pd.read_csv('data/aggregated_users_per_day.csv')\n",
    "pageviews_df = pd.read_csv('data/aggregated_pageviews_per_day.csv')"
   ]
  },
  {
   "cell_type": "code",
   "execution_count": 707,
   "id": "f47a7252",
   "metadata": {},
   "outputs": [],
   "source": [
    "def regression_result(df, n_days=600, start=-500, output_type='df', log=True):\n",
    "    \n",
    "    y = edits_df['opening_revenue'].values.reshape(-1, 1)\n",
    "\n",
    "    imputer = SimpleImputer(missing_values=np.nan, strategy='mean')\n",
    "    imputer = imputer.fit(y)\n",
    "    y_imputed = imputer.transform(y)\n",
    "    \n",
    "    if log:\n",
    "        y_imputed = np.log(y_imputed)\n",
    "\n",
    "    model = LinearRegression()\n",
    "\n",
    "    scores = []\n",
    "\n",
    "    for i in range(start, start + n_days):\n",
    "        X = df.iloc[:, i].values.reshape(-1, 1)\n",
    "        imputer = SimpleImputer(missing_values=np.nan, strategy='mean')\n",
    "        if np.isnan(X).any():\n",
    "            X_imputed = imputer.fit_transform(X)\n",
    "        else:\n",
    "            X_imputed = X\n",
    "            \n",
    "        if log:\n",
    "            X_imputed = np.log(np.add(X_imputed, 1))\n",
    "        \n",
    "        model.fit(X_imputed, y_imputed)\n",
    "        \n",
    "        scores.append(model.score(X_imputed, y_imputed))\n",
    "    \n",
    "    if output_type == 'df':\n",
    "        out_df = pd.DataFrame({'r2' : scores})\n",
    "        out_df.index = pd.RangeIndex(start=start, stop=start + n_days, step=1)\n",
    "        return out_df\n",
    "    else:\n",
    "        return scores"
   ]
  },
  {
   "cell_type": "code",
   "execution_count": 708,
   "id": "08edd1ea",
   "metadata": {
    "scrolled": true
   },
   "outputs": [],
   "source": [
    "reg_pageviews = regression_result(pageviews_df)\n",
    "reg_users = regression_result(users_df)\n",
    "reg_rigor = regression_result(rigor_df)\n",
    "reg_edits = regression_result_windowed(edits_df)"
   ]
  },
  {
   "cell_type": "code",
   "execution_count": 716,
   "id": "42075c91",
   "metadata": {},
   "outputs": [
    {
     "data": {
      "image/png": "[encoded data removed]",
      "text/plain": [
       "<Figure size 640x480 with 1 Axes>"
      ]
     },
     "metadata": {},
     "output_type": "display_data"
    }
   ],
   "source": [
    "fig, ax = plt.subplots()\n",
    "\n",
    "ax.plot(reg_pageviews, color='blue', label='Views')\n",
    "ax.plot(reg_users, color='red', label='Users')\n",
    "ax.plot(reg_rigor, color='gold', label='Rigor')\n",
    "ax.plot(reg_edits, color='green', label='Edits')\n",
    "\n",
    "ax.set_xlabel('Days')\n",
    "ax.set_ylabel('R$^2$(t)')\n",
    "\n",
    "ax.set_xlim([-10, 0])\n",
    "\n",
    "ax.legend(bbox_to_anchor=(1, 1))\n",
    "\n",
    "plt.show()"
   ]
  },
  {
   "cell_type": "markdown",
   "id": "14ca2cbd",
   "metadata": {},
   "source": [
    "#### Theaters"
   ]
  },
  {
   "cell_type": "code",
   "execution_count": 374,
   "id": "ebcf66fe",
   "metadata": {},
   "outputs": [],
   "source": [
    "theaters_per_day_df = theaters_per_day_df.apply(pd.to_numeric, errors='coerce')"
   ]
  },
  {
   "cell_type": "code",
   "execution_count": 385,
   "id": "515b81a0",
   "metadata": {},
   "outputs": [],
   "source": [
    "reg_theaters = regression_result(theaters_per_day_df, 1, -500, output_type='scores')\n",
    "reg_theaters = [reg_theaters] * 600"
   ]
  },
  {
   "cell_type": "code",
   "execution_count": 515,
   "id": "7d5b8499",
   "metadata": {},
   "outputs": [],
   "source": [
    "theaters_df = pd.DataFrame(reg_theaters)\n",
    "theaters_df.index = pd.RangeIndex(start=-500, stop=100, step=1)"
   ]
  },
  {
   "cell_type": "code",
   "execution_count": 516,
   "id": "26646f87",
   "metadata": {
    "scrolled": false
   },
   "outputs": [
    {
     "data": {
      "image/png": "[encoded data removed]",
      "text/plain": [
       "<Figure size 640x480 with 1 Axes>"
      ]
     },
     "metadata": {},
     "output_type": "display_data"
    }
   ],
   "source": [
    "fig, ax = plt.subplots()\n",
    "\n",
    "ax.plot(theaters_df, color='grey', label='Theaters', linestyle='dashed')\n",
    "\n",
    "ax.set_xlabel('Days')\n",
    "ax.set_ylabel('R$^2$(t)')\n",
    "\n",
    "ax.legend(bbox_to_anchor=(1, 1))\n",
    "\n",
    "plt.show()"
   ]
  },
  {
   "cell_type": "markdown",
   "id": "ebdaa6dd",
   "metadata": {},
   "source": [
    "## Test"
   ]
  },
  {
   "cell_type": "code",
   "execution_count": 989,
   "id": "9ecfd998",
   "metadata": {},
   "outputs": [],
   "source": [
    "df = pd.read_csv('data/movies_meta_data.csv')\n",
    "df['wiki_page'] = df['wiki_page'].str.replace('/', '%2F') # replace URL reserved character '/'\n",
    "df.head()\n",
    "\n",
    "corr_df = df.copy()\n",
    "corr_df['opening_revenue'] = corr_df['opening_revenue'].str.replace('$', '').str.replace(',', '').str.replace('-', 'NaN')\n",
    "corr_df['gross_revenue'] = corr_df['gross_revenue'].str.replace('$', '').str.replace(',', '')\n",
    "corr_df['n_theaters'] = corr_df['n_theaters'].str.replace(',', '').str.replace('-', 'NaN')"
   ]
  },
  {
   "cell_type": "code",
   "execution_count": 530,
   "id": "6696ffa7",
   "metadata": {},
   "outputs": [],
   "source": [
    "def regression_result_windowed(df, window=100, output_type='df', log=True):\n",
    "    \n",
    "    y = edits_df['opening_revenue'].values.reshape(-1, 1)\n",
    "\n",
    "    imputer = SimpleImputer(missing_values=np.nan, strategy='mean')\n",
    "    imputer = imputer.fit(y)\n",
    "    y_imputed = imputer.transform(y)\n",
    "    if log:\n",
    "        y_imputed = np.log(y_imputed)\n",
    "\n",
    "    model = LinearRegression()\n",
    "\n",
    "    scores = []\n",
    "\n",
    "    for i in range(window, 600):\n",
    "        X = df.iloc[:, i-window:i].to_numpy()\n",
    "        imputer = SimpleImputer(missing_values=np.nan, strategy='mean')\n",
    "        if np.isnan(X).any():\n",
    "            X_imputed = imputer.fit_transform(X)\n",
    "        else:\n",
    "            X_imputed = X\n",
    "        \n",
    "        if log:\n",
    "            X_imputed = np.log(np.add(X_imputed, 1))\n",
    "        \n",
    "        model.fit(X_imputed, y_imputed)\n",
    "        \n",
    "        scores.append(model.score(X_imputed, y_imputed))\n",
    "#         scores.append(cross_val_score(model, X_imputed, y_imputed, scoring='r2').mean())\n",
    "    \n",
    "    if output_type == 'df':\n",
    "        out_df = pd.DataFrame({'r2' : scores})\n",
    "        out_df.index = pd.RangeIndex(start=-500 + window, stop=100, step=1)\n",
    "        return out_df\n",
    "    else:\n",
    "\n",
    "        return scores"
   ]
  },
  {
   "cell_type": "code",
   "execution_count": 531,
   "id": "9706bb9e",
   "metadata": {},
   "outputs": [],
   "source": [
    "reg_pageviews = regression_result_windowed(pageviews_df)\n",
    "reg_users = regression_result_windowed(users_df)\n",
    "reg_rigor = regression_result_windowed(rigor_df)\n",
    "reg_edits = regression_result_windowed(edits_df)"
   ]
  },
  {
   "cell_type": "code",
   "execution_count": 673,
   "id": "b7cda4bf",
   "metadata": {
    "scrolled": false
   },
   "outputs": [
    {
     "data": {
      "image/png": "[encoded data removed]",
      "text/plain": [
       "<Figure size 640x480 with 1 Axes>"
      ]
     },
     "metadata": {},
     "output_type": "display_data"
    }
   ],
   "source": [
    "fig, ax = plt.subplots()\n",
    "\n",
    "ax.plot(reg_pageviews, color='blue', label='Views')\n",
    "ax.plot(reg_users, color='red', label='Users')\n",
    "ax.plot(reg_rigor, color='gold', label='Rigor')\n",
    "ax.plot(reg_edits, color='green', label='Edits')\n",
    "ax.plot(theaters_df, color='grey', label='Theaters', linestyle='dashed')\n",
    "\n",
    "ax.set_xlabel('Days')\n",
    "ax.set_ylabel('R$^2$(t)')\n",
    "\n",
    "ax.set_xlim([-50, 10])\n",
    "\n",
    "ax.legend(bbox_to_anchor=(1, 1))\n",
    "\n",
    "plt.show()"
   ]
  },
  {
   "cell_type": "markdown",
   "id": "aa686887",
   "metadata": {},
   "source": [
    "## Looking Good!"
   ]
  },
  {
   "cell_type": "code",
   "execution_count": 814,
   "id": "2b4f519f",
   "metadata": {
    "scrolled": false
   },
   "outputs": [
    {
     "data": {
      "image/png": "[encoded data removed]",
      "text/plain": [
       "<Figure size 640x480 with 1 Axes>"
      ]
     },
     "metadata": {},
     "output_type": "display_data"
    }
   ],
   "source": [
    "X = test.iloc[:, 1].values.reshape(-1, 1)\n",
    "y = test['opening_revenue'].values.reshape(-1, 1)\n",
    "\n",
    "X = np.log(X)\n",
    "y = np.log(y)\n",
    "\n",
    "X_train, X_test, y_train, y_test = train_test_split(X, y, test_size=0.33, random_state=2)\n",
    "\n",
    "model = LinearRegression()\n",
    "\n",
    "model.fit(X_train, y_train)\n",
    "\n",
    "y_pred = model.predict(X_test)\n",
    "\n",
    "plt.scatter(y_test, y_pred)\n",
    "plt.xlabel('True Values')\n",
    "plt.ylabel('Predicted Values')\n",
    "plt.show()"
   ]
  },
  {
   "cell_type": "code",
   "execution_count": 971,
   "id": "857c9138",
   "metadata": {},
   "outputs": [],
   "source": [
    "def get_set_regressions(set_id = 'T', day = -30, log = True, cv=False):\n",
    "    \n",
    "    df = pd.concat([pageviews_df[f'{day}'], users_df[f'{day}'], rigor_df[f'{day}'], edits_df[f'{day}'], corr_df['n_theaters'], corr_df['opening_revenue']], axis=1)\n",
    "    df.columns.values[0] = 'views'\n",
    "    df.columns.values[1] = 'users'\n",
    "    df.columns.values[2] = 'rigor'\n",
    "    df.columns.values[3] = 'edits'\n",
    "    \n",
    "    \n",
    "    df['n_theaters'] = pd.to_numeric(df['n_theaters'], errors='coerce')\n",
    "    df['opening_revenue'] = pd.to_numeric(df['opening_revenue'], errors='coerce')\n",
    "    \n",
    "    df.dropna(axis=0, inplace=True)\n",
    "    df = df.reset_index(drop=True)\n",
    "    \n",
    "    model = LinearRegression()\n",
    "    \n",
    "    y = df['opening_revenue'].values.reshape(-1, 1)\n",
    "    if log:\n",
    "        df = df.replace(0, 1)\n",
    "        y = np.log(y)\n",
    "    \n",
    "    if set_id == 'T':\n",
    "        \n",
    "        X = df['n_theaters'].values.reshape(-1, 1)\n",
    "        if log:\n",
    "            X = np.log(X)\n",
    "            \n",
    "        model.fit(X, y)\n",
    "        \n",
    "        if cv:\n",
    "            return cross_val_score(model, X, y, scoring = 'r2', cv=10).mean()\n",
    "            \n",
    "        return model.score(X, y)\n",
    "    \n",
    "    elif set_id == 'V':\n",
    "    \n",
    "        X = df['views'].values.reshape(-1, 1)\n",
    "        if log:\n",
    "            X = np.log(X)\n",
    "            \n",
    "        model.fit(X, y)\n",
    "        \n",
    "        if cv:\n",
    "            return cross_val_score(model, X, y, scoring = 'r2', cv=10).mean()\n",
    "        \n",
    "        return model.score(X, y)\n",
    "    \n",
    "    elif set_id == 'VT':\n",
    "    \n",
    "        x = pd.concat([df['views'], df['n_theaters']], axis=1)\n",
    "    \n",
    "        X = x.to_numpy()\n",
    "        if log:\n",
    "            X = np.log(X)\n",
    "            \n",
    "        model.fit(X, y)\n",
    "        \n",
    "        if cv:\n",
    "            return cross_val_score(model, X, y, scoring = 'r2', cv=10).mean()\n",
    "        \n",
    "        return model.score(X, y)\n",
    "    \n",
    "    elif set_id == 'U':\n",
    "    \n",
    "        X = df['users'].values.reshape(-1, 1)\n",
    "        if log:\n",
    "            X = np.log(X)\n",
    "            \n",
    "        model.fit(X, y)\n",
    "        \n",
    "        if cv:\n",
    "            return cross_val_score(model, X, y, scoring = 'r2', cv=10).mean()\n",
    "        \n",
    "        return model.score(X, y)\n",
    "    \n",
    "    elif set_id == 'R':\n",
    "    \n",
    "        X = df['rigor'].values.reshape(-1, 1)\n",
    "        if log:\n",
    "            X = np.log(X)\n",
    "            \n",
    "        model.fit(X, y)\n",
    "        \n",
    "        if cv:\n",
    "            return cross_val_score(model, X, y, scoring = 'r2', cv=10).mean()\n",
    "        \n",
    "        return model.score(X, y)\n",
    "    \n",
    "    elif set_id == 'UT':\n",
    "    \n",
    "        x = pd.concat([df['users'], df['n_theaters']], axis=1)\n",
    "    \n",
    "        X = x.to_numpy()\n",
    "        if log:\n",
    "            X = np.log(X)\n",
    "            \n",
    "        model.fit(X, y)\n",
    "        \n",
    "        if cv:\n",
    "            return cross_val_score(model, X, y, scoring = 'r2', cv=10).mean()\n",
    "        \n",
    "        return model.score(X, y)\n",
    "    \n",
    "    elif set_id == 'VURE':\n",
    "    \n",
    "        x = pd.concat([df['views'], df['users'], df['rigor'], df['edits']], axis=1)\n",
    "    \n",
    "        X = x.to_numpy()\n",
    "        if log:\n",
    "            X = np.log(X)\n",
    "            \n",
    "        model.fit(X, y)\n",
    "        \n",
    "        if cv:\n",
    "            return cross_val_score(model, X, y, scoring = 'r2', cv=10).mean()\n",
    "        \n",
    "        return model.score(X, y)\n",
    "    \n",
    "    elif set_id == 'VURET':\n",
    "    \n",
    "        x = pd.concat([df['views'], df['users'], df['rigor'], df['edits'], df['n_theaters']], axis=1)\n",
    "    \n",
    "        X = x.to_numpy()\n",
    "        if log:\n",
    "            X = np.log(X)\n",
    "            \n",
    "        model.fit(X, y)\n",
    "        \n",
    "        if cv:\n",
    "            return cross_val_score(model, X, y, scoring = 'r2', cv=10).mean()\n",
    "        \n",
    "        return model.score(X, y)\n",
    "            \n",
    "    else:    \n",
    "        return df"
   ]
  },
  {
   "cell_type": "code",
   "execution_count": 992,
   "id": "ab3b0f06",
   "metadata": {},
   "outputs": [],
   "source": [
    "logs = []\n",
    "non_logs = []\n",
    "\n",
    "for i in ['T', 'V', 'VT', 'U', 'R', 'UT', 'VURE', 'VURET']:\n",
    "    i_logs = []\n",
    "    i_non_logs = []\n",
    "    for k in [False, True]:\n",
    "        k_logs = []\n",
    "        k_non_logs = []\n",
    "        for j in range(-500, 100):\n",
    "            k_logs.append(get_set_regressions(set_id=i, day=j, cv=k))\n",
    "            k_non_logs.append(get_set_regressions(set_id=i, day=j, log=False, cv=k))\n",
    "        i_logs.append(k_logs)\n",
    "        i_non_logs.append(k_non_logs)\n",
    "    logs.append(i_logs)\n",
    "    non_logs.append(i_non_logs)"
   ]
  },
  {
   "cell_type": "code",
   "execution_count": 1121,
   "id": "8fdb26d3",
   "metadata": {},
   "outputs": [
    {
     "data": {
      "image/png": "[encoded data removed]",
      "text/plain": [
       "<Figure size 640x480 with 1 Axes>"
      ]
     },
     "metadata": {},
     "output_type": "display_data"
    }
   ],
   "source": [
    "fig, ax = plt.subplots()\n",
    "\n",
    "ax.plot(range(-500, 100), logs[0][0], color='blue', label='T')\n",
    "ax.plot(range(-500, 100), logs[1][0], color='gold', label='V')\n",
    "ax.plot(range(-500, 100), logs[2][0], color='green', label='VT')\n",
    "ax.plot(range(-500, 100), logs[3][0], color='red', label='U')\n",
    "ax.plot(range(-500, 100), logs[4][0], color='red', label='R', linestyle='dotted')\n",
    "ax.plot(range(-500, 100), logs[5][0], color='green', label='UT', linestyle='dotted')\n",
    "ax.plot(range(-500, 100), logs[6][0], color='gold', label='VURE', linestyle='dotted')\n",
    "ax.plot(range(-500, 100), logs[7][0], color='blue', label='VURET', linestyle='dotted')\n",
    "\n",
    "ax.set_xlabel('Days')\n",
    "ax.set_ylabel('R$^2$(t)')\n",
    "\n",
    "# ax.set_title('R$^2$ of Linear Regression Model by Set of Variables (no CV)')\n",
    "\n",
    "ax.set_xlim([-30, 10])\n",
    "\n",
    "ax.legend(bbox_to_anchor=(1.15, 0.5))\n",
    "\n",
    "plt.show()"
   ]
  },
  {
   "cell_type": "code",
   "execution_count": 1122,
   "id": "7c9ae289",
   "metadata": {},
   "outputs": [
    {
     "data": {
      "image/png": "[encoded data removed]",
      "text/plain": [
       "<Figure size 640x480 with 1 Axes>"
      ]
     },
     "metadata": {},
     "output_type": "display_data"
    }
   ],
   "source": [
    "fig, ax = plt.subplots()\n",
    "\n",
    "ax.plot(range(-500, 100), logs[0][1], color='blue', label='T')\n",
    "ax.plot(range(-500, 100), logs[1][1], color='gold', label='V')\n",
    "ax.plot(range(-500, 100), logs[2][1], color='green', label='VT')\n",
    "ax.plot(range(-500, 100), logs[3][1], color='red', label='U')\n",
    "ax.plot(range(-500, 100), logs[4][1], color='red', label='R', linestyle='dotted')\n",
    "ax.plot(range(-500, 100), logs[5][1], color='green', label='UT', linestyle='dotted')\n",
    "ax.plot(range(-500, 100), logs[6][1], color='gold', label='VURE', linestyle='dotted')\n",
    "ax.plot(range(-500, 100), logs[7][1], color='blue', label='VURET', linestyle='dotted')\n",
    "\n",
    "ax.set_xlabel('Days')\n",
    "ax.set_ylabel('R$^2$(t)')\n",
    "\n",
    "# ax.set_title('R$^2$ of Linear Regression Model by Set of Variables (with CV)')\n",
    "\n",
    "ax.set_xlim([-30, 10])\n",
    "\n",
    "ax.legend(bbox_to_anchor=(1.15, 0.5))\n",
    "\n",
    "plt.show()"
   ]
  },
  {
   "cell_type": "code",
   "execution_count": 1064,
   "id": "1c0213e5",
   "metadata": {},
   "outputs": [
    {
     "data": {
      "text/plain": [
       "242"
      ]
     },
     "execution_count": 1064,
     "metadata": {},
     "output_type": "execute_result"
    }
   ],
   "source": [
    "test = get_set_regressions(set_id='x')\n",
    "len(test['opening_revenue'])"
   ]
  },
  {
   "cell_type": "code",
   "execution_count": 1128,
   "id": "80673b5f",
   "metadata": {},
   "outputs": [],
   "source": [
    "def pred_true_scatter(log = True):\n",
    "\n",
    "    df = get_set_regressions(set_id='x')\n",
    "\n",
    "    y = df['opening_revenue']\n",
    "    \n",
    "    X = df.iloc[:, :-1].to_numpy()\n",
    "    \n",
    "    if log:\n",
    "        X = np.log(X)\n",
    "        y = np.log(y)\n",
    "        \n",
    "    model = LinearRegression()\n",
    "    \n",
    "    X_train, X_test, y_train, y_test = train_test_split(X, y, test_size=0.5, random_state=1)\n",
    "    \n",
    "    model.fit(X_train, y_train)\n",
    "    \n",
    "    y_pred = model.predict(X_test)\n",
    "    \n",
    "    fig, ax = plt.subplots()\n",
    "    \n",
    "    ax.scatter(y_train, y_pred, color='steelblue', label=f'Sample of {len(df)} Movies')\n",
    "    ax.plot(y_train, y_train, color='red', label='Optima')\n",
    "    \n",
    "    ax.set_xlabel('Actual Values')\n",
    "    ax.set_ylabel('Predicted Values')\n",
    "    \n",
    "#     ax.set_title('True vs. Predicted Opening Weekend Revenue')\n",
    "    \n",
    "    ax.legend(bbox_to_anchor=(.38, 1), framealpha=.2)\n",
    "    \n",
    "    plt.savefig('figures/true_pred.png')"
   ]
  },
  {
   "cell_type": "code",
   "execution_count": 1129,
   "id": "4b4b9825",
   "metadata": {},
   "outputs": [
    {
     "data": {
      "image/png": "[encoded data removed]",
      "text/plain": [
       "<Figure size 640x480 with 1 Axes>"
      ]
     },
     "metadata": {},
     "output_type": "display_data"
    }
   ],
   "source": [
    "pred_true_scatter()"
   ]
  }
 ],
 "metadata": {
  "kernelspec": {
   "display_name": "smda",
   "language": "python",
   "name": "smda"
  },
  "language_info": {
   "codemirror_mode": {
    "name": "ipython",
    "version": 3
   },
   "file_extension": ".py",
   "mimetype": "text/x-python",
   "name": "python",
   "nbconvert_exporter": "python",
   "pygments_lexer": "ipython3",
   "version": "3.10.7"
  }
 },
 "nbformat": 4,
 "nbformat_minor": 5
}
